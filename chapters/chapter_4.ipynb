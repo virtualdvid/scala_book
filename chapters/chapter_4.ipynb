{
 "cells": [
  {
   "cell_type": "markdown",
   "metadata": {},
   "source": [
    "# Chapter 4"
   ]
  },
  {
   "cell_type": "markdown",
   "metadata": {},
   "source": [
    "## Classes and Objects"
   ]
  },
  {
   "cell_type": "markdown",
   "metadata": {},
   "source": [
    "You've now seen the basics of classes and objects in Scala from the previous two chapters. In this\n",
    "chapter, we'll take you a bit deeper. You'll learn more about classes, fields, and methods, and get an\n",
    "overview of semicolon inference. We'll discuss singleton objects, including how to use them to write\n",
    "and run a Scala application. If you are familiar with Java, you'll find that the concepts in Scala are\n",
    "similar, but not exactly the same. So even if you're a Java guru, it will pay to read on."
   ]
  },
  {
   "cell_type": "markdown",
   "metadata": {},
   "source": [
    "## 4.1 CLASSES, FIELDS, AND METHODS"
   ]
  },
  {
   "cell_type": "markdown",
   "metadata": {},
   "source": [
    "A class is a blueprint for objects. Once you define a class, you can create objects from the class\n",
    "blueprint with the keyword new. For example, given the class definition:"
   ]
  },
  {
   "cell_type": "code",
   "execution_count": 2,
   "metadata": {},
   "outputs": [
    {
     "data": {
      "text/plain": [
       "defined class ChecksumAccumulator\n"
      ]
     },
     "execution_count": 2,
     "metadata": {},
     "output_type": "execute_result"
    }
   ],
   "source": [
    "class ChecksumAccumulator {\n",
    "    // class definition goes here\n",
    "}"
   ]
  },
  {
   "cell_type": "markdown",
   "metadata": {},
   "source": [
    "You can create `ChecksumAccumulator` objects with:"
   ]
  },
  {
   "cell_type": "code",
   "execution_count": 3,
   "metadata": {},
   "outputs": [
    {
     "data": {
      "text/plain": [
       "res0: ChecksumAccumulator = ChecksumAccumulator@171c458c\n"
      ]
     },
     "execution_count": 3,
     "metadata": {},
     "output_type": "execute_result"
    }
   ],
   "source": [
    "new ChecksumAccumulator"
   ]
  },
  {
   "cell_type": "markdown",
   "metadata": {},
   "source": [
    "Inside a class definition, you place fields and methods, which are collectively called `members`. Fields, which you define with either `val` or `var`, are variables that refer to objects. Methods, which you define with `def`, contain executable code. The fields hold the state, or data, of an object, whereas the methods use that data to do the computational work of the object. When you instantiate a class, the runtime sets aside some memory to hold the image of that object's state (i.e., the content of its variables). For example, if you defined a `ChecksumAccumulator` class and gave it a var field named `sum`:"
   ]
  },
  {
   "cell_type": "code",
   "execution_count": 4,
   "metadata": {},
   "outputs": [
    {
     "data": {
      "text/plain": [
       "defined class ChecksumAccumulator\n"
      ]
     },
     "execution_count": 4,
     "metadata": {},
     "output_type": "execute_result"
    }
   ],
   "source": [
    "class ChecksumAccumulator {\n",
    "    var sum = 0\n",
    "}"
   ]
  },
  {
   "cell_type": "markdown",
   "metadata": {},
   "source": [
    "and you instantiated it twice with:"
   ]
  },
  {
   "cell_type": "code",
   "execution_count": 5,
   "metadata": {},
   "outputs": [
    {
     "data": {
      "text/plain": [
       "acc: ChecksumAccumulator = ChecksumAccumulator@388872ed\r\n",
       "csa: ChecksumAccumulator = ChecksumAccumulator@27ec7c6c\n"
      ]
     },
     "execution_count": 5,
     "metadata": {},
     "output_type": "execute_result"
    }
   ],
   "source": [
    "val acc = new ChecksumAccumulator\n",
    "val csa = new ChecksumAccumulator"
   ]
  },
  {
   "cell_type": "markdown",
   "metadata": {},
   "source": [
    "The image of the objects in memory might look like this:\n",
    "\n",
    "<img src=\"imgs_chapter_4/img_4_1.png\" width=\"350\" height=\"150\">\n",
    "\n",
    "Since `sum`, a field declared inside class `ChecksumAccumulator`, is a `var`, not a `val`, you can later reassign to `sum` a different `Int` value, like this:"
   ]
  },
  {
   "cell_type": "code",
   "execution_count": 6,
   "metadata": {},
   "outputs": [
    {
     "data": {
      "text/plain": [
       "acc.sum: Int = 3\n"
      ]
     },
     "execution_count": 6,
     "metadata": {},
     "output_type": "execute_result"
    }
   ],
   "source": [
    "acc.sum = 3"
   ]
  },
  {
   "cell_type": "markdown",
   "metadata": {},
   "source": [
    "Now the picture would look like this:\n",
    "\n",
    "<img src=\"imgs_chapter_4/img_4_2.png\" width=\"350\" height=\"150\">\n",
    "\n",
    "One thing to notice about this picture is that there are two sum variables, one in the object referenced by `acc` and the other in the object referenced by `csa`. Fields are also known asinstance\n",
    "variables, because every instance gets its own set of the variables. Collectively, an object's instance variables make up the memory image of the object. You see this illustrated here not only in that you see two sum variables, but also that when you changed one, the other was unaffected.\n",
    "\n",
    "Another thing to note in this example is that you were able to mutate the object `acc` referred to, even though `acc` is a `val`. What you can't do with `acc` (or `csa`), given that they are vals, notvars, is reassign a different object to them. For example, the following attempt would fail:"
   ]
  },
  {
   "cell_type": "code",
   "execution_count": 8,
   "metadata": {},
   "outputs": [
    {
     "ename": "<console>",
     "evalue": "28: error: reassignment to val\r",
     "output_type": "error",
     "traceback": [
      "<console>:28: error: reassignment to val\r",
      "       acc = new ChecksumAccumulator\r",
      "           ^",
      ""
     ]
    }
   ],
   "source": [
    "// Won't compile, because acc is a val\n",
    "acc = new ChecksumAccumulator"
   ]
  },
  {
   "cell_type": "markdown",
   "metadata": {},
   "source": [
    "What you can count on, therefore, is that `acc` will always refer to the same `ChecksumAccumulator` object with which you initialize it, but the fields contained inside that object might change over time.\n",
    "\n",
    "One important way to pursue robustness of an object is to ensure that the object's state —the values of its instance variables —remains valid during its entire lifetime. The first step is to prevent outsiders from accessing the fields directly by making the fields private. Because private fields can only be accessed by methods defined in the same class, all the code that can update the state will be localized to the class. To declare a field private, you place a privateaccess modifier in front of the field, like this:"
   ]
  },
  {
   "cell_type": "code",
   "execution_count": 9,
   "metadata": {},
   "outputs": [
    {
     "data": {
      "text/plain": [
       "defined class ChecksumAccumulator\n"
      ]
     },
     "execution_count": 9,
     "metadata": {},
     "output_type": "execute_result"
    }
   ],
   "source": [
    "class ChecksumAccumulator {\n",
    "    private var sum = 0\n",
    "}"
   ]
  },
  {
   "cell_type": "markdown",
   "metadata": {},
   "source": [
    "Given this definition of `ChecksumAccumulator`, any attempt to access `sum` from the outside of the class would fail:"
   ]
  },
  {
   "cell_type": "code",
   "execution_count": 10,
   "metadata": {},
   "outputs": [
    {
     "ename": "<console>",
     "evalue": "32: error: variable sum in class ChecksumAccumulator cannot be accessed in ChecksumAccumulator\r",
     "output_type": "error",
     "traceback": [
      "<console>:32: error: variable sum in class ChecksumAccumulator cannot be accessed in ChecksumAccumulator\r",
      "val $ires5 = acc.sum\r",
      "                 ^",
      "<console>:28: error: variable sum in class ChecksumAccumulator cannot be accessed in ChecksumAccumulator\r",
      "       acc.sum = 5 // Won't compile, because sum is private\r",
      "           ^",
      ""
     ]
    }
   ],
   "source": [
    "val acc = new ChecksumAccumulator\n",
    "acc.sum = 5 // Won't compile, because sum is private"
   ]
  },
  {
   "cell_type": "markdown",
   "metadata": {},
   "source": [
    "#### Note\n",
    "The way you make members public in Scala is by not explicitly specifying any access modifier. Put\n",
    "another way, where you'd say \"public\" in Java, you simply say nothing in Scala. Public is Scala's\n",
    "default access level.\n",
    "\n",
    "Now that `sum` is private, the only code that can access `sum` is code defined inside the body of the class itself. Thus, `ChecksumAccumulator` won't be of much use to anyone unless we define some methods in it:"
   ]
  },
  {
   "cell_type": "code",
   "execution_count": 11,
   "metadata": {},
   "outputs": [
    {
     "data": {
      "text/plain": [
       "defined class ChecksumAccumulator\n"
      ]
     },
     "execution_count": 11,
     "metadata": {},
     "output_type": "execute_result"
    }
   ],
   "source": [
    "class ChecksumAccumulator {\n",
    "    private var sum = 0\n",
    "    def add(b: Byte): Unit = {\n",
    "        sum += b\n",
    "    }\n",
    "    def checksum(): Int = {\n",
    "        return ~(sum & 0xFF) + 1\n",
    "    }\n",
    "}"
   ]
  },
  {
   "cell_type": "markdown",
   "metadata": {},
   "source": [
    "The `ChecksumAccumulator` now has two methods, `add` and `checksum`, both of which exhibit the basic\n",
    "form of a function definition, shown in Figure 2.1 here.\n",
    "\n",
    "Any parameters to a method can be used inside the method. One important characteristic of method\n",
    "parameters in Scala is that they are vals, not vars.[1] If you attempt to reassign a parameter inside a method in Scala, therefore, it won't compile:"
   ]
  },
  {
   "cell_type": "code",
   "execution_count": 13,
   "metadata": {},
   "outputs": [
    {
     "ename": "<console>",
     "evalue": "15: error: reassignment to val\r",
     "output_type": "error",
     "traceback": [
      "<console>:15: error: reassignment to val\r",
      "               b = 1 // This won't compile, because b is a val\r",
      "                 ^",
      ""
     ]
    }
   ],
   "source": [
    "class ChecksumAccumulator {\n",
    "    private var sum = 0\n",
    "    def add(b: Byte): Unit = {\n",
    "        b = 1 // This won't compile, because b is a val\n",
    "        sum += b\n",
    "    }\n",
    "    def checksum(): Int = {\n",
    "        return ~(sum & 0xFF) + 1\n",
    "    }\n",
    "}"
   ]
  },
  {
   "cell_type": "markdown",
   "metadata": {},
   "source": [
    "Although `add` and `checksum` in this version of `ChecksumAccumulator` correctly implement the desired\n",
    "functionality, you can express them using a more concise style. First, the return at the end of\n",
    "the `checksum` method is superfluous and can be dropped. In the absence of any explicit return\n",
    "statement, a Scala method returns the last value computed by the method.\n",
    "\n",
    "The recommended style for methods is in fact to avoid having explicit, and especially multiple, return\n",
    "statements. Instead, think of each method as an expression that yields one value, which is returned.\n",
    "This philosophy will encourage you to make methods quite small, to factor larger methods into\n",
    "multiple smaller ones. On the other hand, design choices depend on the design context, and Scala\n",
    "makes it easy to write methods that have multiple, explicit returns if that's what you desire.\n",
    "\n",
    "Because all `checksum` does is calculate a value, it does not need an explicit return. Another shorthand for methods is that you can leave off the curly braces if a method computes only a single result expression. If the result expression is short, it can even be placed on the same line as the def itself. For the utmost in conciseness, you can leave off the result type and Scala will infer it. With these changes, class `ChecksumAccumulator` looks like this:"
   ]
  },
  {
   "cell_type": "code",
   "execution_count": 14,
   "metadata": {},
   "outputs": [
    {
     "data": {
      "text/plain": [
       "defined class ChecksumAccumulator\n"
      ]
     },
     "execution_count": 14,
     "metadata": {},
     "output_type": "execute_result"
    }
   ],
   "source": [
    "class ChecksumAccumulator {\n",
    "    private var sum = 0\n",
    "    def add(b: Byte) = sum += b\n",
    "    def checksum() = ~(sum & 0xFF) + 1\n",
    "}"
   ]
  },
  {
   "cell_type": "markdown",
   "metadata": {},
   "source": [
    "Although the Scala compiler will correctly infer the result types of the `add` and `checksum` methods\n",
    "shown in the previous example, readers of the code will also need to mentally infer the result types by studying the bodies of the methods. As a result it is often better to explicitly provide the result types of public methods declared in a class even when the compiler would infer it for you. Listing 4.1 shows this style."
   ]
  },
  {
   "cell_type": "code",
   "execution_count": 15,
   "metadata": {},
   "outputs": [
    {
     "data": {
      "text/plain": [
       "defined class ChecksumAccumulator\n"
      ]
     },
     "execution_count": 15,
     "metadata": {},
     "output_type": "execute_result"
    }
   ],
   "source": [
    "// In file ChecksumAccumulator.scala\n",
    "class ChecksumAccumulator {\n",
    "    private var sum = 0\n",
    "    def add(b: Byte): Unit = { sum += b }\n",
    "    def checksum(): Int = ~(sum & 0xFF) + 1\n",
    "}\n",
    "// Listing 4.1 - Final version of class ChecksumAccumulator."
   ]
  },
  {
   "cell_type": "markdown",
   "metadata": {},
   "source": [
    "Methods with a result type of `Unit`, such as ChecksumAccumulator's `add` method, are executed for their side effects. A side effect is generally defined as mutating state somewhere external to the method or performing an I/O action. In add's case, the side effect is that sum is reassigned. A method that is executed only for its side effects is known as a procedure."
   ]
  },
  {
   "cell_type": "markdown",
   "metadata": {},
   "source": [
    "## 4.2 SEMICOLON INFERENCE"
   ]
  },
  {
   "cell_type": "markdown",
   "metadata": {},
   "source": [
    "In a Scala program, a semicolon at the end of a statement is usually optional. You can type one if you\n",
    "want but you don't have to if the statement appears by itself on a single line. On the other hand, a\n",
    "semicolon is required if you write multiple statements on a single line:"
   ]
  },
  {
   "cell_type": "code",
   "execution_count": 16,
   "metadata": {},
   "outputs": [
    {
     "name": "stdout",
     "output_type": "stream",
     "text": [
      "hello\n"
     ]
    },
    {
     "data": {
      "text/plain": [
       "s: String = hello\n"
      ]
     },
     "execution_count": 16,
     "metadata": {},
     "output_type": "execute_result"
    }
   ],
   "source": [
    "val s = \"hello\"; println(s)"
   ]
  },
  {
   "cell_type": "markdown",
   "metadata": {},
   "source": [
    "If you want to enter a statement that spans multiple lines, most of the time you can simply enter it and Scala will separate the statements in the correct place. For example, the following is treated as one four-line statement:"
   ]
  },
  {
   "cell_type": "code",
   "execution_count": 18,
   "metadata": {},
   "outputs": [
    {
     "name": "stdout",
     "output_type": "stream",
     "text": [
      "ok\n"
     ]
    },
    {
     "data": {
      "text/plain": [
       "x: Int = 3\n"
      ]
     },
     "execution_count": 18,
     "metadata": {},
     "output_type": "execute_result"
    }
   ],
   "source": [
    "val x = 3\n",
    "if (x < 2)\n",
    "    println(\"too small\")\n",
    "else\n",
    "    println(\"ok\")"
   ]
  },
  {
   "cell_type": "markdown",
   "metadata": {},
   "source": [
    "Occasionally, however, Scala will split a statement into two parts against your wishes:\n",
    "\n",
    "```\n",
    "x\n",
    "+ y\n",
    "```\n",
    "\n",
    "This parses as two statements `x` and `+y`. If you intend it to parse as one statement `x + y`, you can always wrap it in parentheses:\n",
    "\n",
    "```\n",
    "(x\n",
    "+ y)\n",
    "```\n",
    "\n",
    "Alternatively, you can put the `+` at the end of a line. For just this reason, whenever you are chaining an in fix operation such as `+`, it is a common Scala style to put the operators at the end of the line instead of the beginning:\n",
    "\n",
    "```\n",
    "x +\n",
    "y +\n",
    "z\n",
    "```"
   ]
  },
  {
   "cell_type": "markdown",
   "metadata": {},
   "source": [
    "### THE RULES OF SEMICOLON INFERENCE"
   ]
  },
  {
   "cell_type": "markdown",
   "metadata": {},
   "source": [
    "The precise rules for statement separation are surprisingly simple for how well they work. In short, a\n",
    "line ending is treated as a semicolon unless one of the following conditions is true:  \n",
    "  1. The line in question ends in a word that would not be legal as the end of a statement, such as a period or an infix operator.  \n",
    "  2. The next line begins with a word that cannot start a statement.  \n",
    "  3. The line ends while inside parentheses `(...)` or brackets `[...]`, because these cannot contain multiple statements anyway."
   ]
  },
  {
   "cell_type": "markdown",
   "metadata": {},
   "source": [
    "## 4.3 SINGLETON OBJECTS"
   ]
  },
  {
   "cell_type": "markdown",
   "metadata": {},
   "source": [
    "As mentioned in Chapter 1, one way in which Scala is more object-oriented than Java is that classes in\n",
    "Scala cannot have static members. Instead, Scala has singleton objects. A singleton object definition\n",
    "looks like a class definition, except instead of the keyword class you use the keyword object. Listing\n",
    "4.2 shows an example.\n",
    "\n",
    "The singleton object in this figure is named `ChecksumAccumulator`, the same name as the class in the\n",
    "previous example. When a singleton object shares the same name with a class, it is called that\n",
    "class's companion object. You must define both the class and its companion object in the same source\n",
    "file. The class is called the companion class of the singleton object. A class and its companion object can access each other's private members."
   ]
  },
  {
   "cell_type": "code",
   "execution_count": 19,
   "metadata": {},
   "outputs": [
    {
     "data": {
      "text/plain": [
       "import scala.collection.mutable\r\n",
       "defined object ChecksumAccumulator\n",
       "warning: previously defined class ChecksumAccumulator is not a companion to object ChecksumAccumulator.\n",
       "Companions must be defined together; you may wish to use :paste mode for this.\n"
      ]
     },
     "execution_count": 19,
     "metadata": {},
     "output_type": "execute_result"
    }
   ],
   "source": [
    "// In file ChecksumAccumulator.scala\n",
    "import scala.collection.mutable\n",
    "\n",
    "object ChecksumAccumulator {\n",
    "    private val cache = mutable.Map.empty[String, Int]\n",
    "    def calculate(s: String): Int =\n",
    "        if (cache.contains(s))\n",
    "            cache(s)\n",
    "        else {\n",
    "            val acc = new ChecksumAccumulator\n",
    "            for (c <- s)\n",
    "                acc.add(c.toByte)\n",
    "            val cs = acc.checksum()\n",
    "            cache += (s -> cs)\n",
    "            cs\n",
    "        }\n",
    "}\n",
    "// Listing 4.2 - Companion object for class ChecksumAccumulator."
   ]
  },
  {
   "cell_type": "markdown",
   "metadata": {},
   "source": [
    "The `ChecksumAccumulator` singleton object has one method, named `calculate`, which takes a String and\n",
    "calculates a `checksum` for the characters in the String. It also has one private field, cache, a mutable map in which previously calculated checksums are cached.[2] The first line of the method,\n",
    "\"`if (cache.contains(s))`\", checks the cache to see if the passed string is already contained as a key in the map. If so, it just returns the mapped value, cache(s). Otherwise, it executes the else clause, which calculates the checksum. The first line of the else clause defines a val named `acc` and initializes it with a new `ChecksumAccumulator` instance.[3] The next line is a for expression, which cycles through each character in the passed string, converts the character to a Byte by invoking `toByte` on it, and passes that to the `add` method of the `ChecksumAccumulator` instances to which `acc` refers. After the for expression completes, the next line of the method invokes `checksum` on `acc`, which gets the `checksum` for the passed String, and stores it into a val named `cs`. In the next line, `cache += (s -> cs)`, the passed string key is mapped to the integer `checksum` value, and this key-value pair is added to the cache map. The last expression of the method, `cs`, ensures the `checksum` is the result of the method.\n",
    "\n",
    "If you are a Java programmer, one way to think of singleton objects is as the home for any static\n",
    "methods you might have written in Java. You can invoke methods on singleton objects using a similar\n",
    "syntax: the name of the singleton object, a dot, and the name of the method. For example, you can\n",
    "invoke the calculate method of singleton object `ChecksumAccumulator` like this:"
   ]
  },
  {
   "cell_type": "code",
   "execution_count": 20,
   "metadata": {},
   "outputs": [
    {
     "data": {
      "text/plain": [
       "res4: Int = -248\n"
      ]
     },
     "execution_count": 20,
     "metadata": {},
     "output_type": "execute_result"
    }
   ],
   "source": [
    "ChecksumAccumulator.calculate(\"Every value is an object.\")"
   ]
  },
  {
   "cell_type": "markdown",
   "metadata": {},
   "source": [
    "A singleton object is more than a holder of static methods, however. It is a first-class object. You can think of a singleton object's name, therefore, as a \"`name tag`\" attached to the object:\n",
    "\n",
    "<img src=\"imgs_chapter_4/img_4_3.png\" width=\"350\" height=\"150\">\n",
    "\n",
    "Defining a singleton object doesn't define a type (at the Scala level of abstraction). Given just a\n",
    "definition of object `ChecksumAccumulator`, you can't make a variable of type `ChecksumAccumulator`.\n",
    "Rather, the type named `ChecksumAccumulator` is defined by the singleton object's companion class.\n",
    "However, singleton objects extend a superclass and can mix in traits. Given each singleton object is an instance of its superclasses and mixed-in traits, you can invoke its methods via these types, refer to it from variables of these types, and pass it to methods expecting these types. We'll show some examples of singleton objects inheriting from classes and traits in Chapter 13.\n",
    "\n",
    "One difference between classes and singleton objects is that singleton objects cannot take parameters,\n",
    "whereas classes can. Because you can't instantiate a singleton object with the `new` keyword, you have\n",
    "no way to pass parameters to it. Each singleton object is implemented asan instance of a synthetic\n",
    "class referenced from a static variable, so they have the same initialization semantics as Java statics.[4] In particular, a singleton object is initialized the first time some code accesses it.\n",
    "A singleton object that does not share the same name with a companion class is called a standalone\n",
    "object. You can use standalone objects for many purposes, including collecting related utility methods\n",
    "together or defining an entry point to a Scala application. This use case is shown in the next section."
   ]
  },
  {
   "cell_type": "markdown",
   "metadata": {},
   "source": [
    "## 4.4 A SCALA APPLICATION"
   ]
  },
  {
   "cell_type": "markdown",
   "metadata": {},
   "source": [
    "To run a Scala program, you must supply the name of a standalone singleton object with amain method\n",
    "that takes one parameter, an `Array[String]`, and has a result type of Unit. Any standalone object with a main method of the proper signature can be used as the entry point into an application. An example is shown in Listing 4.3:"
   ]
  },
  {
   "cell_type": "code",
   "execution_count": 21,
   "metadata": {},
   "outputs": [
    {
     "data": {
      "text/plain": [
       "import ChecksumAccumulator.calculate\r\n",
       "defined object Summer\n"
      ]
     },
     "execution_count": 21,
     "metadata": {},
     "output_type": "execute_result"
    }
   ],
   "source": [
    "// In file Summer.scala\n",
    "import ChecksumAccumulator.calculate\n",
    "\n",
    "object Summer {\n",
    "    def main(args: Array[String]) = {\n",
    "        for (arg <- args)\n",
    "            println(arg + \": \" + calculate(arg))\n",
    "    }\n",
    "}\n",
    "// Listing 4.3 - The Summer application."
   ]
  },
  {
   "cell_type": "markdown",
   "metadata": {},
   "source": [
    "The name of the singleton object in Listing 4.3 is Summer. Its main method has the proper signature, so you can use it as an application. The first statement in the file is an import of the `calculate` method defined in the `ChecksumAccumulator` object in the previous example. This import statement allows you to use the method's simple name in the rest of the file.[5] The body of the main method simply prints out each argument and the checksum for the argument, separated by a colon.\n",
    "\n",
    "#### Note\n",
    "Scala implicitly imports members of packages `java.lang` and scala, as well as the members of a\n",
    "singleton object named Predef, into every Scala source file. Predef, which resides in package scala,\n",
    "contains many useful methods. For example, when you say `println` in a Scala source file, you're actually invoking println on Predef. (`Predef.println` turns around and invokes `Console.println`, which does the real work.) When you say assert, you're invoking `Predef.assert`.\n",
    "\n",
    "To run the Summer application, place the code from Listing 4.3 into a file named `Summer.scala`.\n",
    "Because Summer uses `ChecksumAccumulator`, place the code for `ChecksumAccumulator`, both the\n",
    "class shown in Listing 4.1 and its companion object shown in Listing 4.2, into a file\n",
    "named `ChecksumAccumulator.scala`.\n",
    "\n",
    "One difference between Scala and Java is that whereas Java requires you to put a public class in a file named after the class—for example, you'd put class `SpeedRacer` in file `SpeedRacer.java` —in Scala, you can name `.scala` files anything you want, no matter what Scala classes or code you put in them. In general in the case of non-scripts, however, it is recommended style to name files after the classes they contain as is done in Java, so that programmers can more easily locate classes by looking at file names.\n",
    "\n",
    "This is the approach we've taken with the two files in this example, `Summer.scala` and `ChecksumAccumulator.scala`.\n",
    "\n",
    "Neither `ChecksumAccumulator.scala` nor `Summer.scala` are scripts, because they end in a definition. A script, by contrast, must end in a result expression. Thus if you try to run Summer.scala as a script, the Scala interpreter will complain that Summer.scala does not end in a result expression (assuming of course you didn't add any expression of your own after the Summer object definition). \n",
    "\n",
    "Instead, you'll need to actually compile these files with the Scala compiler, then run the resulting class files. One way to do this is to use `scalac`, which is the basic Scala compiler, like this:\n",
    "\n",
    "```\n",
    "$ scalac ChecksumAccumulator.scala Summer.scala\n",
    "```\n",
    "\n",
    "This compiles your source files, but there may be a perceptible delay before the compilation finishes.\n",
    "The reason is that every time the compiler starts up, it spends time scanning the contents of jar files and doing other initial work before it even looks at the fresh source files you submit to it. For this reason, the Scala distribution also includes a Scala compiler daemon called `fsc` (for fast Scala compiler). You use it like this:\n",
    "\n",
    "```\n",
    "$ fsc ChecksumAccumulator.scala Summer.scala\n",
    "```\n",
    "\n",
    "The first time you run `fsc`, it will create a local server daemon attached to a port on your computer. It will then send the list of files to compile to the daemon via the port, and the daemon will compile the files. The next time you run `fsc`, the daemon will already be running, so `fsc` will simply send the file list to the daemon, which will immediately compile the files. Using fsc, you only need to wait for the Java runtime to startup the first time. If you ever want to stop the fsc daemon, you can do so with `fsc` -shutdown.\n",
    "\n",
    "Running either of these `scalac` or `fsc` commands will produce Java class files that you can then run via the scala command, the same command you used to invoke the interpreter in previous\n",
    "examples. However, instead of giving it a filename with a `.scala` extension containing Scala code to\n",
    "interpret as you did in every previous example,[6] in this case you'll give it the name of a standalone object containing a main method of the proper signature. You can run the Summer application, therefore, by typing:\n",
    "\n",
    "```\n",
    "$ scala Summer of love\n",
    "```\n",
    "\n",
    "You will see checksums printed for the two command line arguments:\n",
    "\n",
    "```\n",
    "of: -213\n",
    "love: -182\n",
    "```"
   ]
  },
  {
   "cell_type": "markdown",
   "metadata": {},
   "source": [
    "## 4.5 THE APP TRAIT"
   ]
  },
  {
   "cell_type": "markdown",
   "metadata": {},
   "source": [
    "Scala provides a trait, `scala.App`, that can save you some finger typing. Although we haven't yet\n",
    "covered everything you'll need to understand exactly how this trait works, we figured you'd want to\n",
    "know about it now anyway. Listing 4.4 shows an example:"
   ]
  },
  {
   "cell_type": "code",
   "execution_count": 22,
   "metadata": {},
   "outputs": [
    {
     "data": {
      "text/plain": [
       "import ChecksumAccumulator.calculate\r\n",
       "defined object FallWinterSpringSummer\n"
      ]
     },
     "execution_count": 22,
     "metadata": {},
     "output_type": "execute_result"
    }
   ],
   "source": [
    "import ChecksumAccumulator.calculate\n",
    "\n",
    "object FallWinterSpringSummer extends App {\n",
    "    for (season <- List(\"fall\", \"winter\", \"spring\"))\n",
    "        println(season + \": \" + calculate(season))\n",
    "}\n",
    "\n",
    "// Listing 4.4 - Using the App trait."
   ]
  },
  {
   "cell_type": "markdown",
   "metadata": {},
   "source": [
    "To use the trait, you first write \"`extends App`\" after the name of your singleton object. Then instead of writing a main method, you place the code you would have put in the main method directly between the curly braces of the singleton object. You can access command-line arguments via an array of strings named args. That's it. You can compile and run this application just like any other."
   ]
  },
  {
   "cell_type": "markdown",
   "metadata": {},
   "source": [
    "## 4.6 CONCLUSION"
   ]
  },
  {
   "cell_type": "markdown",
   "metadata": {},
   "source": [
    "This chapter has given you the basics of classes and objects in Scala, and shown you how to compile\n",
    "and run applications. In the next chapter, you'll learn about Scala's basic types and how to use them.\n",
    "\n",
    "#### Footnotes for Chapter 4:\n",
    "\n",
    "[1] The reason parameters are vals is that vals are easier to reason about. You needn't look further to determine if a val is reassigned, as you must do with a var.  \n",
    "[2] We used a cache here to show a singleton object with a field. A cache such as this is a performance optimization that trades off memory for computation time. In general, you would likely use such a cache only if you encountered a performance problem that the cache solves, and might use a weak map, such as WeakHashMap in scala.collection.jcl, so that entries in the cache could be garbage collected if memory becomes scarce.  \n",
    "[3] Because the keyword new is only used to instantiate classes, the new object created here is an instance of the ChecksumAccumulator class, not the singleton object of the same name.  \n",
    "[4] The name of the synthetic class is the object name plus a dollar sign. Thus the synthetic class for the singleton object named ChecksumAccumulator is ChecksumAccumulator$.  \n",
    "[5] If you're a Java programmer, you can think of this import as similar to the static import feature introduced in Java 5. One difference in Scala, however, is that you can import members from any object, not just singleton objects.  \n",
    "[6] The actual mechanism that the scala program uses to \"interpret\" a Scala source file is that it compiles the Scala source code to Java bytecodes, loads them immediately via a class loader, and executes them"
   ]
  }
 ],
 "metadata": {
  "kernelspec": {
   "display_name": "spylon-kernel",
   "language": "scala",
   "name": "spylon-kernel"
  },
  "language_info": {
   "codemirror_mode": "text/x-scala",
   "file_extension": ".scala",
   "help_links": [
    {
     "text": "MetaKernel Magics",
     "url": "https://metakernel.readthedocs.io/en/latest/source/README.html"
    }
   ],
   "mimetype": "text/x-scala",
   "name": "scala",
   "pygments_lexer": "scala",
   "version": "0.4.1"
  }
 },
 "nbformat": 4,
 "nbformat_minor": 4
}
