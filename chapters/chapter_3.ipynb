{
 "cells": [
  {
   "cell_type": "markdown",
   "metadata": {},
   "source": [
    "# Chapter 3"
   ]
  },
  {
   "cell_type": "markdown",
   "metadata": {},
   "source": [
    "## Next Steps in Scala"
   ]
  },
  {
   "cell_type": "markdown",
   "metadata": {},
   "source": [
    "This chapter continues the previous chapter's introduction to Scala. In this chapter, we'll introduce some\n",
    "more advanced features. When you complete this chapter, you should have enough knowledge to\n",
    "enable you to start writing useful scripts in Scala. As with the previous chapter, we recommend you try\n",
    "out these examples as you go. The best way to get a feel for Scala is to start writing Scala code."
   ]
  },
  {
   "cell_type": "markdown",
   "metadata": {},
   "source": [
    "### STEP 7. PARAMETERIZE ARRAYS WITH TYPES"
   ]
  },
  {
   "cell_type": "markdown",
   "metadata": {},
   "source": [
    "In Scala, you can instantiate objects, or class instances, using new. When you instantiate an object in\n",
    "Scala, you can parameterize it with values and types. Parameterization means \"configuring\" an\n",
    "instance when you create it. You parameterize an instance with values by passing objects to a\n",
    "constructor in parentheses. For example, the following Scala code instantiates a\n",
    "new `java.math.BigInteger` and parameterizes it with the value \"12345\":"
   ]
  },
  {
   "cell_type": "code",
   "execution_count": 2,
   "metadata": {},
   "outputs": [
    {
     "data": {
      "text/plain": [
       "big: java.math.BigInteger = 12345\n"
      ]
     },
     "execution_count": 2,
     "metadata": {},
     "output_type": "execute_result"
    }
   ],
   "source": [
    "val big = new java.math.BigInteger(\"12345\")"
   ]
  },
  {
   "cell_type": "markdown",
   "metadata": {},
   "source": [
    "You parameterize an instance with types by specifying one or more types in square brackets. An\n",
    "example is shown in Listing 3.1. In this example, greetStrings is a value of type `Array[String](an \"array of string\")` that is initialized to length 3 by parameterizing it with the value 3 in the first line of code. If\n",
    "you run the code in Listing 3.1 as a script, you'll see yet another `Hello, world!` greeting. Note that when\n",
    "you parameterize an instance with both a type and a value, the type comes first in its square brackets,\n",
    "followed by the value in parentheses."
   ]
  },
  {
   "cell_type": "code",
   "execution_count": 3,
   "metadata": {},
   "outputs": [
    {
     "name": "stdout",
     "output_type": "stream",
     "text": [
      "Hello, world!"
     ]
    },
    {
     "data": {
      "text/plain": [
       "greetStrings: Array[String] = Array(Hello, \", \", world!)\n"
      ]
     },
     "execution_count": 3,
     "metadata": {},
     "output_type": "execute_result"
    }
   ],
   "source": [
    "val greetStrings = new Array[String](3)\n",
    "\n",
    "greetStrings(0) = \"Hello\"\n",
    "greetStrings(1) = \", \"\n",
    "greetStrings(2) = \"world!\"\n",
    "\n",
    "for (i <- 0 to 2)\n",
    "    print(greetStrings(i))\n",
    "\n",
    "// Listing 3.1 - Parameterizing an array with a type."
   ]
  },
  {
   "cell_type": "markdown",
   "metadata": {},
   "source": [
    "#### Note\n",
    "Although the code in Listing 3.1 demonstrates important concepts, it does not show the recommended\n",
    "way to create and initialize an array in Scala. You'll see a better way in Listing 3.2 here.\n",
    "Had you been in a more explicit mood, you could have specified the type of `greetStrings` explicitly like\n",
    "this:"
   ]
  },
  {
   "cell_type": "code",
   "execution_count": 4,
   "metadata": {},
   "outputs": [
    {
     "data": {
      "text/plain": [
       "greetStrings: Array[String] = Array(null, null, null)\n"
      ]
     },
     "execution_count": 4,
     "metadata": {},
     "output_type": "execute_result"
    }
   ],
   "source": [
    "val greetStrings: Array[String] = new Array[String](3)"
   ]
  },
  {
   "cell_type": "markdown",
   "metadata": {},
   "source": [
    "Given Scala's type inference, this line of code is semantically equivalent to the actual first line\n",
    "of Listing 3.1. But this form demonstrates that while the type parameterization portion (the type names\n",
    "in square brackets) forms part of the type of the instance, the value parameterization part (the values in\n",
    "parentheses) does not. The type of `greetStrings` is `Array[String]`, not `Array[String](3)`.\n",
    "\n",
    "The next three lines of code in Listing 3.1 initialize each element of the greetStrings array:"
   ]
  },
  {
   "cell_type": "code",
   "execution_count": 5,
   "metadata": {},
   "outputs": [],
   "source": [
    "greetStrings(0) = \"Hello\"\n",
    "greetStrings(1) = \", \"\n",
    "greetStrings(2) = \"world!\""
   ]
  },
  {
   "cell_type": "markdown",
   "metadata": {},
   "source": [
    "As mentioned previously, arrays in Scala are accessed by placing the index inside parentheses, not\n",
    "square brackets as in Java. Thus the zeroth element of the array is `greetStrings(0)`, not `greetStrings[0]`.\n",
    "These three lines of code illustrate an important concept to understand about Scala concerning the\n",
    "meaning of val. When you define a variable with val, the variable can't be reassigned, but the object to\n",
    "which it refers could potentially still be changed. So in this case, you couldn't reassign `greetStrings` to a\n",
    "different array; `greetStrings` will always point to the same `Array[String]` instance with which it was\n",
    "initialized. But you can change the elements of that `Array[String]` over time, so the array itself is\n",
    "mutable.\n",
    "\n",
    "The final two lines in Listing 3.1 contain a for expression that prints out each `greetStrings` array element\n",
    "in turn:"
   ]
  },
  {
   "cell_type": "code",
   "execution_count": 6,
   "metadata": {},
   "outputs": [
    {
     "name": "stdout",
     "output_type": "stream",
     "text": [
      "Hello, world!"
     ]
    }
   ],
   "source": [
    "for (i <- 0 to 2)\n",
    "    print(greetStrings(i))"
   ]
  },
  {
   "cell_type": "markdown",
   "metadata": {},
   "source": [
    "The first line of code in this for expression illustrates another general rule of Scala: if a method takes\n",
    "only one parameter, you can call it without a dot or parentheses. The `to` in this example is actually a\n",
    "method that takes one `Int` argument. The code `0 to 2` is transformed into the method call `(0).to(2)`.\n",
    "[1] Note that this syntax only works if you explicitly specify the receiver of the method call. You\n",
    "cannot write \"`println 10`\", but you can write \"`Console println 10`\".\n",
    "\n",
    "Scala doesn't technically have operator overloading, because it doesn't actually have operators in the\n",
    "traditional sense. Instead, characters such as `+`, `-`, `*`, and `/` can be used in method names. Thus, when\n",
    "you typed `1 + 2` into the Scala interpreter in `Step 1`, you were actually invoking a method named `+` on\n",
    "the `Int` object `1`, passing in `2` as a parameter. As illustrated in Figure 3.1, you could alternatively have\n",
    "written `1 + 2` using traditional method invocation syntax, `(1).+(2)`.\n",
    "\n",
    "<img src=\"imgs_chapter_3/figure_3_1.png\" width=\"350\" height=\"150\">\n",
    "<div align=\"center\">\n",
    "  <b>Figure 3.1 - All operations are method calls in Scala.</b>\n",
    "</div>"
   ]
  },
  {
   "cell_type": "markdown",
   "metadata": {},
   "source": [
    "Another important idea illustrated by this example will give you insight into why arrays are accessed\n",
    "with parentheses in Scala. Scala has fewer special cases than Java. Arrays are simply instances of\n",
    "classes like any other class in Scala. When you apply parentheses surrounding one or more values to a\n",
    "variable, Scala will transform the code into an invocation of a method named apply on that variable.\n",
    "\n",
    "So `greetStrings(i)` gets transformed into `greetStrings.apply(i)`. Thus accessing an element of an array in\n",
    "Scala is simply a method call like any other. This principle is not restricted to arrays: any application of\n",
    "an object to some arguments in parentheses will be transformed to an apply method call. Of course this\n",
    "will compile only if that type of object actually defines an apply method. So it's not a special case; it's a\n",
    "general rule.\n",
    "\n",
    "Similarly, when an assignment is made to a variable to which parentheses and one or more arguments\n",
    "have been applied, the compiler will transform that into an invocation of an update method that takes\n",
    "the arguments in parentheses as well as the object to the right of the equals sign. For example:"
   ]
  },
  {
   "cell_type": "code",
   "execution_count": 7,
   "metadata": {},
   "outputs": [],
   "source": [
    "greetStrings(0) = \"Hello\""
   ]
  },
  {
   "cell_type": "markdown",
   "metadata": {},
   "source": [
    "will be transformed into:"
   ]
  },
  {
   "cell_type": "code",
   "execution_count": 8,
   "metadata": {},
   "outputs": [],
   "source": [
    "greetStrings.update(0, \"Hello\")"
   ]
  },
  {
   "cell_type": "markdown",
   "metadata": {},
   "source": [
    "Thus, the following is semantically equivalent to the code in Listing 3.1:"
   ]
  },
  {
   "cell_type": "code",
   "execution_count": 9,
   "metadata": {},
   "outputs": [
    {
     "name": "stdout",
     "output_type": "stream",
     "text": [
      "Hello, world!"
     ]
    },
    {
     "data": {
      "text/plain": [
       "greetStrings: Array[String] = Array(Hello, \", \", world!)\n"
      ]
     },
     "execution_count": 9,
     "metadata": {},
     "output_type": "execute_result"
    }
   ],
   "source": [
    "val greetStrings = new Array[String](3)\n",
    "\n",
    "greetStrings.update(0, \"Hello\")\n",
    "greetStrings.update(1, \", \")\n",
    "greetStrings.update(2, \"world!\")\n",
    "\n",
    "for (i <- 0.to(2))\n",
    "    print(greetStrings.apply(i))"
   ]
  },
  {
   "cell_type": "markdown",
   "metadata": {},
   "source": [
    "Scala achieves a conceptual simplicity by treating everything, from arrays to expressions, as objects\n",
    "with methods. You don't have to remember special cases, such as the differences in Java between\n",
    "primitive and their corresponding wrapper types, or between arrays and regular objects. Moreover, this\n",
    "uniformity does not incur a significant performance cost. The Scala compiler uses Java arrays,\n",
    "primitive types, and native arithmetic where possible in the compiled code.\n",
    "\n",
    "Although the examples you've seen so far in this step compile and run just fine, Scala provides a more\n",
    "concise way to create and initialize arrays that you would normally use (see Listing 3.2). This code\n",
    "creates a new array of length three, initialized to the passed strings,\"zero\", \"one\", and \"two\". The\n",
    "compiler infers the type of the array to be Array[String], because you passed strings to it."
   ]
  },
  {
   "cell_type": "code",
   "execution_count": 10,
   "metadata": {},
   "outputs": [
    {
     "data": {
      "text/plain": [
       "numNames: Array[String] = Array(zero, one, two)\n"
      ]
     },
     "execution_count": 10,
     "metadata": {},
     "output_type": "execute_result"
    }
   ],
   "source": [
    "val numNames = Array(\"zero\", \"one\", \"two\")\n",
    "// Listing 3.2 - Creating and initializing an array."
   ]
  },
  {
   "cell_type": "markdown",
   "metadata": {},
   "source": [
    "What you're actually doing in Listing 3.2 is calling a factory method, named apply, which creates and\n",
    "returns the new array. This apply method takes a variable number of arguments[2] and is defined on\n",
    "the Array companion object. You'll learn more about companion objects in Section 4.3. If you're a Java\n",
    "programmer, you can think of this as calling a static method named apply on class Array. A more\n",
    "verbose way to call the same applymethod is:"
   ]
  },
  {
   "cell_type": "code",
   "execution_count": 11,
   "metadata": {},
   "outputs": [
    {
     "data": {
      "text/plain": [
       "numNames2: Array[String] = Array(zero, one, two)\n"
      ]
     },
     "execution_count": 11,
     "metadata": {},
     "output_type": "execute_result"
    }
   ],
   "source": [
    "val numNames2 = Array.apply(\"zero\", \"one\", \"two\")"
   ]
  },
  {
   "cell_type": "markdown",
   "metadata": {},
   "source": [
    "### STEP 8. USE LISTS"
   ]
  },
  {
   "cell_type": "markdown",
   "metadata": {},
   "source": [
    "One of the big ideas of the functional style of programming is that methods should not have side\n",
    "effects. A method's only act should be to compute and return a value. Some benefits gained when you\n",
    "take this approach are that methods become less entangled, and therefore more reliable and reusable.\n",
    "Another benefit (in a statically typed language) is that everything that goes into and out of a method is\n",
    "checked by a type checker, so logic errors are more likely to manifest themselves as type errors.\n",
    "Applying this functional philosophy to the world of objects means making objects immutable.\n",
    "\n",
    "As you've seen, a Scala array is a mutable sequence of objects that all share the same type.\n",
    "An `Array[String]` contains only strings, for example. Although you can't change the length of an array\n",
    "after it is instantiated, you can change its element values. Thus, arrays are mutable objects.\n",
    "\n",
    "For an immutable sequence of objects that share the same type you can use Scala's List class. As with\n",
    "arrays, a `List[String]` contains only strings. Scala's `List`, `scala.List`, differs from Java's `java.util.List` type\n",
    "in that Scala Lists are always immutable (whereas Java Lists can be mutable). More generally,\n",
    "Scala's List is designed to enable a functional style of programming. Creating a list is easy, and Listing 3.3 shows how:"
   ]
  },
  {
   "cell_type": "code",
   "execution_count": 12,
   "metadata": {},
   "outputs": [
    {
     "data": {
      "text/plain": [
       "oneTwoThree: List[Int] = List(1, 2, 3)\n"
      ]
     },
     "execution_count": 12,
     "metadata": {},
     "output_type": "execute_result"
    }
   ],
   "source": [
    "val oneTwoThree = List(1, 2, 3)\n",
    "// Listing 3.3 - Creating and initializing a list."
   ]
  },
  {
   "cell_type": "markdown",
   "metadata": {},
   "source": [
    "The code in Listing 3.3 establishes a new val named `oneTwoThree`, initialized with a new `List[Int]` with\n",
    "the integer elements `1`, `2`, and `3`.[3] Because Lists are immutable, they behave a bit like Java strings:\n",
    "when you call a method on a list that might seem by its name to imply the list will mutate, it instead\n",
    "creates and returns a new list with the new value. For example, List has a method named `:::` for list\n",
    "concatenation. Here's how you use it:"
   ]
  },
  {
   "cell_type": "code",
   "execution_count": 13,
   "metadata": {},
   "outputs": [
    {
     "name": "stdout",
     "output_type": "stream",
     "text": [
      "List(1, 2) and List(3, 4) were not mutated.\n",
      "Thus, List(1, 2, 3, 4) is a new list.\n"
     ]
    },
    {
     "data": {
      "text/plain": [
       "oneTwo: List[Int] = List(1, 2)\r\n",
       "threeFour: List[Int] = List(3, 4)\r\n",
       "oneTwoThreeFour: List[Int] = List(1, 2, 3, 4)\n"
      ]
     },
     "execution_count": 13,
     "metadata": {},
     "output_type": "execute_result"
    }
   ],
   "source": [
    "val oneTwo = List(1, 2)\n",
    "val threeFour = List(3, 4)\n",
    "val oneTwoThreeFour = oneTwo ::: threeFour\n",
    "println(oneTwo + \" and \" + threeFour + \" were not mutated.\")\n",
    "println(\"Thus, \" + oneTwoThreeFour + \" is a new list.\")"
   ]
  },
  {
   "cell_type": "markdown",
   "metadata": {},
   "source": [
    "Perhaps the most common operator you'll use with lists is `::`, which is pronounced \"cons. \"Cons\n",
    "prepends a new element to the beginning of an existing list and returns the resulting list. For example,\n",
    "if you run this script:"
   ]
  },
  {
   "cell_type": "code",
   "execution_count": 14,
   "metadata": {},
   "outputs": [
    {
     "name": "stdout",
     "output_type": "stream",
     "text": [
      "List(1, 2, 3)\n"
     ]
    },
    {
     "data": {
      "text/plain": [
       "twoThree: List[Int] = List(2, 3)\r\n",
       "oneTwoThree: List[Int] = List(1, 2, 3)\n"
      ]
     },
     "execution_count": 14,
     "metadata": {},
     "output_type": "execute_result"
    }
   ],
   "source": [
    "val twoThree = List(2, 3)\n",
    "val oneTwoThree = 1 :: twoThree\n",
    "println(oneTwoThree)"
   ]
  },
  {
   "cell_type": "markdown",
   "metadata": {},
   "source": [
    "#### Note\n",
    "In the expression \"`1 :: twoThree`\", `::` is a method of its right operand, the list, `twoThree`. You might\n",
    "suspect there's something amiss with the associativity of the `::` method, but it is actually a simple rule to\n",
    "remember: If a method is used in operator notation, such as `a * b`, the method is invoked on the left\n",
    "operand, as in `a.*(b)`—unless the method name ends in a colon. If the method name ends in a colon, the\n",
    "method is invoked on the right operand. Therefore, in `1 :: twoThree`, the `::` method is invoked\n",
    "on `twoThree`, passing in `1`, like this: `twoThree.::(1)`. Operator associativity will be described in more\n",
    "detail in Section 5.9.\n",
    "\n",
    "Given that a shorthand way to specify an empty list is `Nil`, one way to initialize new lists is to string\n",
    "together elements with the cons operator, with `Nil` as the last element.[4] For example, the following\n",
    "script will produce the same output as the previous one, \"`List(1, 2, 3)`\":"
   ]
  },
  {
   "cell_type": "code",
   "execution_count": 15,
   "metadata": {},
   "outputs": [
    {
     "name": "stdout",
     "output_type": "stream",
     "text": [
      "List(1, 2, 3)\n"
     ]
    },
    {
     "data": {
      "text/plain": [
       "oneTwoThree: List[Int] = List(1, 2, 3)\n"
      ]
     },
     "execution_count": 15,
     "metadata": {},
     "output_type": "execute_result"
    }
   ],
   "source": [
    "val oneTwoThree = 1 :: 2 :: 3 :: Nil\n",
    "println(oneTwoThree)"
   ]
  },
  {
   "cell_type": "markdown",
   "metadata": {},
   "source": [
    "Scala's List is packed with useful methods, many of which are shown in Table 3.1. The full power of\n",
    "lists will be revealed in Chapter 16."
   ]
  },
  {
   "cell_type": "markdown",
   "metadata": {},
   "source": [
    "### WHY NOT APPEND TO LISTS?"
   ]
  },
  {
   "cell_type": "markdown",
   "metadata": {},
   "source": [
    "Class List does offer an \"`append`\" operation —it's written `:+` and is explained in Chapter 24 —but this\n",
    "operation is rarely used, because the time it takes to append to a list grows linearly with the size of the\n",
    "list, whereas prepending with `::` takes constant time. If you want to build a list efficiently by appending\n",
    "elements, you can prepend them and when you're done call reverse. Or you can use a `ListBuffer`, a\n",
    "mutable list that does offer an append operation, and when you're done call `toList`. `ListBuffer` will be\n",
    "described in Section 22.2."
   ]
  },
  {
   "cell_type": "markdown",
   "metadata": {},
   "source": [
    "#### Some List methods and usages\n",
    "\n",
    "| What it | is What it does |\n",
    "| :--- | :--- |\n",
    "| List() or Nil | The empty List\n",
    "| List(\"Cool\", \"tools\", \"rule\") | Creates a new List[String] with the three values \"Cool\", \"tools\", and \"rule\" |\n",
    "| val thrill = \"Will\" :: \"fill\" :: \"until\" :: Nil | Creates a new List[String] with the three values \"Will\", \"fill\", and \"until\" |\n",
    "| List(\"a\", \"b\") ::: List(\"c\", \"d\") | Concatenates two lists (returns a new List[String] with values \"a\", \"b\", \"c\", and \"d\") |\n",
    "| thrill(2) | Returns the element at index 2 (zero based) of the thrill list (returns \"until\") |\n",
    "| thrill.count(s => s.length == 4) | Counts the number of string elements in thrill that have length 4 (returns 2) |\n",
    "| thrill.drop(2) | Returns the thrill list without its first 2 elements (returns List(\"until\")) |\n",
    "| thrill.dropRight(2) | Returns the thrill list without its rightmost 2 elements (returns List(\"Will\")) |\n",
    "| thrill.exists(s => s == \"until\") | Determines whether a string element exists in thrill that has the value \"until\" (returns true) |\n",
    "| thrill.filter(s => s.length == 4) | Returns a list of all elements, in order, of the thrill list that have length 4 (returns List(\"Will\", \"fill\")) |\n",
    "| thrill.forall(s => s.endsWith(\"l\")) | Indicates whether all elements in the thrill list end with the letter \"l\" (returns true) |\n",
    "| thrill.foreach(s => print(s)) | Executes the print statement on each of the strings in the thrill list (prints \"Willfilluntil\") |\n",
    "| thrill.foreach(print) | Same as the previous, but more concise (also prints \"Willfilluntil\") |\n",
    "| thrill.head | Returns the first element in the thrill list (returns \"Will\") |\n",
    "| thrill.init | Returns a list of all but the last element in the thrill list (returns List(\"Will\", \"fill\")) |\n",
    "| thrill.isEmpty | Indicates whether the thrill list is empty (returns false) |\n",
    "| thrill.last | Returns the last element in the thrill list (returns \"until\") |\n",
    "| thrill.length | Returns the number of elements in the thrill list (returns 3) |\n",
    "| thrill.map(s => s + \"y\") | Returns a list resulting from adding a \"y\" to each string element in the thrill list (returns List(\"Willy\", \"filly\", \"untily\")) |\n",
    "| thrill.mkString(\", \") | Makes a string with the elements of the list (returns \"Will, fill, until\") |\n",
    "| thrill.filterNot(s => s.length == 4) | Returns a list of all elements, in order, of the thrilllist except those that have length 4 (returns List(\"until\")) |\n",
    "| thrill.reverse | Returns a list containing all elements of the thrill list in reverse order (returns List(\"until\", \"fill\", \"Will\")) |\n",
    "| thrill.sort((s, t) => s.charAt(0).toLower < t.charAt(0).toLower) | Returns a list containing all elements of the thrill list in alphabetical order of the first character lowercased (returns List(\"fill\", \"until\", \"Will\")) |\n",
    "| thrill.tail | Returns the thrill list minus its first element (returns List(\"fill\", \"until\")) |"
   ]
  },
  {
   "cell_type": "markdown",
   "metadata": {},
   "source": [
    "### STEP 9. USE TUPLES"
   ]
  },
  {
   "cell_type": "markdown",
   "metadata": {},
   "source": [
    "Another useful container object is the tuple. Like lists, tuples are immutable, but unlike lists, tuples can\n",
    "contain different types of elements. Whereas a list might be a `List[Int]` or a `List[String]`, a tuple could\n",
    "contain both an integer and a string at the same time. Tuples are very useful, for example, if you need\n",
    "to return multiple objects from a method. Whereas in Java you would often create a `JavaBean`-like class\n",
    "to hold the multiple return values, in Scala you can simply return a tuple. And it is simple: To\n",
    "instantiate a new tuple that holds some objects, just place the objects in parentheses, separated by\n",
    "commas. Once you have a tuple instantiated, you can access its elements individually with a dot,\n",
    "underscore, and the one-based index of the element. An example is shown in Listing 3.4:"
   ]
  },
  {
   "cell_type": "code",
   "execution_count": 16,
   "metadata": {},
   "outputs": [
    {
     "name": "stdout",
     "output_type": "stream",
     "text": [
      "99\n",
      "Luftballons\n"
     ]
    },
    {
     "data": {
      "text/plain": [
       "pair: (Int, String) = (99,Luftballons)\n"
      ]
     },
     "execution_count": 16,
     "metadata": {},
     "output_type": "execute_result"
    }
   ],
   "source": [
    "val pair = (99, \"Luftballons\")\n",
    "println(pair._1)\n",
    "println(pair._2)\n",
    "// Listing 3.4 - Creating and using a tuple."
   ]
  },
  {
   "cell_type": "markdown",
   "metadata": {},
   "source": [
    "In the first line of Listing 3.4, you create a new tuple that contains the integer `99`, as its first element,\n",
    "and the string, `\"Luftballons\"`, as its second element. Scala infers the type of the tuple to\n",
    "be `Tuple2[Int, String]`, and gives that type to the variable pair as well. In the second line, you access\n",
    "the `_1` field, which will produce the first element, `99`. The \"`.`\" in the second line is the same dot you'd\n",
    "use to access a field or invoke a method. In this case you are accessing a field named `_1`.\n",
    "\n",
    "The actual type of a tuple depends on the number of elements it contains and the types of those\n",
    "elements. Thus, the type of `(99, \"Luftballons\")` is `Tuple2[Int, String]`. The type\n",
    "of `('u', 'r', \"the\", 1, 4, \"me\")` is `Tuple6[Char, Char, String, Int, Int, String]`.[5]"
   ]
  },
  {
   "cell_type": "markdown",
   "metadata": {},
   "source": [
    "### ACCESSING THE ELEMENTS OF A TUPLE"
   ]
  },
  {
   "cell_type": "markdown",
   "metadata": {},
   "source": [
    "You may be wondering why you can't access the elements of a tuple like the elements of a list, for\n",
    "example, with \"`pair(0)`\". The reason is that a list's apply method always returns the same type, but each\n",
    "element of a tuple may be a different type: `_1` can have one result type, `_2` another, and so on.\n",
    "These `_N` numbers are `one-based`, instead of `zero-based`, because starting with 1 is a tradition set by\n",
    "other languages with statically typed tuples, such as Haskell and ML."
   ]
  },
  {
   "cell_type": "markdown",
   "metadata": {},
   "source": [
    "### STEP 10. USE SETS AND MAPS"
   ]
  },
  {
   "cell_type": "markdown",
   "metadata": {},
   "source": [
    "Because Scala aims to help you take advantage of both functional and imperative styles, its collections\n",
    "libraries make a point to differentiate between mutable and immutable collections. For example, arrays\n",
    "are always mutable; lists are always immutable. Scala also provides mutable and immutable\n",
    "alternatives for sets and maps, but uses the same simple names for both versions. For sets and\n",
    "maps, Scala models mutability in the class hierarchy.\n",
    "\n",
    "For example, the Scala API contains a base trait for sets, where a trait is similar to a Java interface.\n",
    "(You'll find out more about traits in Chapter 12.) Scala then provides two subtraits, one for mutable sets\n",
    "and another for immutable sets.\n",
    "\n",
    "As you can see in Figure 3.2, these three traits all share the same simple name, Set. Their fully\n",
    "qualified names differ, however, because each resides in a different package. Concrete set classes in the\n",
    "Scala API, such as the HashSet classes shown in Figure 3.2, extend either the mutable or\n",
    "immutable Set trait. (Although in Java you \"implement\" interfaces, in Scala you \"extend\" or \"mix in\"\n",
    "traits.) Thus, if you want to use a HashSet, you can choose between mutable and immutable varieties\n",
    "depending upon your needs. The default way to create a set is shown in Listing 3.5:"
   ]
  },
  {
   "cell_type": "code",
   "execution_count": 18,
   "metadata": {},
   "outputs": [
    {
     "name": "stdout",
     "output_type": "stream",
     "text": [
      "false\n"
     ]
    },
    {
     "data": {
      "text/plain": [
       "jetSet: scala.collection.immutable.Set[String] = Set(Boeing, Airbus, Lear)\n"
      ]
     },
     "execution_count": 18,
     "metadata": {},
     "output_type": "execute_result"
    }
   ],
   "source": [
    "var jetSet = Set(\"Boeing\", \"Airbus\")\n",
    "jetSet += \"Lear\"\n",
    "println(jetSet.contains(\"Cessna\"))\n",
    "// Listing 3.5 - Creating, initializing, and using an immutable set."
   ]
  },
  {
   "cell_type": "markdown",
   "metadata": {},
   "source": [
    "<img src=\"imgs_chapter_3/figure_3_2.png\" width=\"350\" height=\"150\">\n",
    "<div align=\"center\">\n",
    "  <b>Figure 3.2 - Class hierarchy for Scala sets.</b>\n",
    "</div>"
   ]
  },
  {
   "cell_type": "markdown",
   "metadata": {},
   "source": [
    "In the first line of code in Listing 3.5, you define a new var named `jetSet` and initialize it with an\n",
    "immutable set containing the two strings, `\"Boeing\"` and `\"Airbus\"`. As this example shows, you can\n",
    "create sets in Scala similarly to how you create lists and arrays: by invoking a factory method\n",
    "named apply on a Set companion object. In Listing 3.5, you invoke apply on the companion object\n",
    "for `scala.collection.immutable.Set`, which returns an instance of a default, immutable Set. The Scala\n",
    "compiler infers jetSet's type to be the immutable `Set[String]`.\n",
    "\n",
    "To add a new element to a set, you call `+` on the set, passing in the new element. On both mutable and\n",
    "immutable sets, the + method will create and return a new set with the element added. In Listing 3.5,\n",
    "you're working with an immutable set. Although mutable sets offer an actual `+=` method, immutable\n",
    "sets do not.\n",
    "\n",
    "In this case, the second line of code, \"`jetSet += \"Lear\"`\", is essentially a shorthand for:"
   ]
  },
  {
   "cell_type": "code",
   "execution_count": 19,
   "metadata": {},
   "outputs": [
    {
     "data": {
      "text/plain": [
       "jetSet: scala.collection.immutable.Set[String] = Set(Boeing, Airbus, Lear)\n"
      ]
     },
     "execution_count": 19,
     "metadata": {},
     "output_type": "execute_result"
    }
   ],
   "source": [
    "jetSet = jetSet + \"Lear\""
   ]
  },
  {
   "cell_type": "markdown",
   "metadata": {},
   "source": [
    "Thus, in the second line of Listing 3.5, you reassign the jetSet var with a new set\n",
    "containing `\"Boeing\"`, `\"Airbus\"`, and `\"Lear\"`. Finally, the last line of Listing 3.5 prints out whether or not\n",
    "the set contains the string `\"Cessna\"`. (As you'd expect, it prints `false`.)\n",
    "\n",
    "If you want a mutable set, you'll need to use an import, as shown in Listing 3.6:"
   ]
  },
  {
   "cell_type": "code",
   "execution_count": 20,
   "metadata": {},
   "outputs": [
    {
     "name": "stdout",
     "output_type": "stream",
     "text": [
      "Set(Poltergeist, Shrek, Hitch)\n"
     ]
    },
    {
     "data": {
      "text/plain": [
       "import scala.collection.mutable\r\n",
       "movieSet: scala.collection.mutable.Set[String] = Set(Poltergeist, Shrek, Hitch)\n"
      ]
     },
     "execution_count": 20,
     "metadata": {},
     "output_type": "execute_result"
    }
   ],
   "source": [
    "import scala.collection.mutable\n",
    "val movieSet = mutable.Set(\"Hitch\", \"Poltergeist\")\n",
    "movieSet += \"Shrek\"\n",
    "println(movieSet)\n",
    "// Listing 3.6 - Creating, initializing, and using a mutable set."
   ]
  },
  {
   "cell_type": "markdown",
   "metadata": {},
   "source": [
    "In the first line of Listing 3.6 you import the mutable Set. As with Java, an import statement allows you\n",
    "to use a simple name, such as `Set`, instead of the longer, fully qualified name. As a result, when you\n",
    "say `Set` on the third line, the compiler knows you mean `scala.collection.mutable.Set`. On that line, you\n",
    "initialize `movieSet` with a new mutable set that contains the strings `\"Hitch\"` and `\"Poltergeist\"`. The\n",
    "subsequent line adds `\"Shrek\"` to the mutable set by calling the `+=` method on the set, passing in the\n",
    "string `\"Shrek\"`. As mentioned previously, `+=` is an actual method defined on mutable sets. Had you\n",
    "wanted to, instead of writing `movieSet += \"Shrek\"`, you could have written `movieSet.+=(\"Shrek\")`.[6]\n",
    "\n",
    "Although the default set implementations produced by the mutable and immutable `Set` factory methods\n",
    "shown thus far will likely be sufficient for most situations, occasionally you may want an explicit set\n",
    "class. Fortunately, the syntax is similar. Simply import that class you need, and use the factory method\n",
    "on its companion object. For example, if you need an immutable `HashSet`, you could do this:"
   ]
  },
  {
   "cell_type": "code",
   "execution_count": 21,
   "metadata": {},
   "outputs": [
    {
     "name": "stdout",
     "output_type": "stream",
     "text": [
      "Set(Chilies, Tomatoes, Coriander)\n"
     ]
    },
    {
     "data": {
      "text/plain": [
       "import scala.collection.immutable.HashSet\r\n",
       "hashSet: scala.collection.immutable.HashSet[String] = Set(Chilies, Tomatoes)\n"
      ]
     },
     "execution_count": 21,
     "metadata": {},
     "output_type": "execute_result"
    }
   ],
   "source": [
    "import scala.collection.immutable.HashSet\n",
    "val hashSet = HashSet(\"Tomatoes\", \"Chilies\")\n",
    "println(hashSet + \"Coriander\")"
   ]
  },
  {
   "cell_type": "markdown",
   "metadata": {},
   "source": [
    "Another useful collection class in Scala is `Map`. As with sets, Scala provides mutable andimmutable\n",
    "versions of Map, using a class hierarchy. As you can see in Figure 3.3, the class hierarchy for maps\n",
    "looks a lot like the one for sets. There's a base Map trait in packagescala.collection, and two\n",
    "subtrait Maps: a mutable `Map` in `scala.collection.mutable` and an immutable one\n",
    "in `scala.collection.immutable`."
   ]
  },
  {
   "cell_type": "markdown",
   "metadata": {},
   "source": [
    "<img src=\"imgs_chapter_3/figure_3_3.png\" width=\"350\" height=\"150\">\n",
    "<div align=\"center\">\n",
    "  <b>Figure 3.3 - Class hierarchy for Scala maps.</b>\n",
    "</div>"
   ]
  },
  {
   "cell_type": "markdown",
   "metadata": {},
   "source": [
    "Implementations of `Map`, such as the `HashMaps` shown in the class hierarchy in Figure 3.3, extend\n",
    "either the mutable or immutable trait. You can create and initialize maps using factory methods similar\n",
    "to those used for `arrays`, `lists`, and `sets`."
   ]
  },
  {
   "cell_type": "code",
   "execution_count": 22,
   "metadata": {},
   "outputs": [
    {
     "name": "stdout",
     "output_type": "stream",
     "text": [
      "Find big X on ground.\n"
     ]
    },
    {
     "data": {
      "text/plain": [
       "import scala.collection.mutable\r\n",
       "treasureMap: scala.collection.mutable.Map[Int,String] = Map(2 -> Find big X on ground., 1 -> Go to island., 3 -> Dig.)\n"
      ]
     },
     "execution_count": 22,
     "metadata": {},
     "output_type": "execute_result"
    }
   ],
   "source": [
    "import scala.collection.mutable\n",
    "val treasureMap = mutable.Map[Int, String]()\n",
    "treasureMap += (1 -> \"Go to island.\")\n",
    "treasureMap += (2 -> \"Find big X on ground.\")\n",
    "treasureMap += (3 -> \"Dig.\")\n",
    "println(treasureMap(2))\n",
    "// Listing 3.7 - Creating, initializing, and using a mutable map."
   ]
  },
  {
   "cell_type": "markdown",
   "metadata": {},
   "source": [
    "For example, Listing 3.7 shows a mutable map in action. On the first line of Listing 3.7, you import the\n",
    "mutable `Map`. You then define a val named `treasureMap`, and initialize it with an empty\n",
    "mutable `Map` that has integer keys and string values. The map is empty because you pass nothing to the\n",
    "factory method (the parentheses in \"`Map[Int, String]()`\" are empty).[7] On the next three lines you add\n",
    "key/value pairs to the map using the `->` and `+=` methods. As illustrated previously, the Scala compiler\n",
    "transforms a binary operation expression like `1 -> \"Go to island.\"` into `(1).->(\"Go to island.\")`. Thus,\n",
    "when you say `1 -> \"Go to island.\"`, you are actually calling a method named `->` on an integer with the\n",
    "value `1`, passing in a string with the value `\"Go to island.\"` This `->` method, which you can invoke on any\n",
    "object in a Scala program, returns a `two-element` tuple containing the `key` and `value`.[8] You then pass\n",
    "this tuple to the `+=` method of the map object to which `treasureMap` refers. Finally, the last line prints\n",
    "the value that corresponds to the key `2` in the `treasureMap`.\n",
    "\n",
    "If you prefer an immutable map, no import is necessary, as immutable is the default map. An example\n",
    "is shown in Listing 3.8:"
   ]
  },
  {
   "cell_type": "code",
   "execution_count": 24,
   "metadata": {},
   "outputs": [
    {
     "name": "stdout",
     "output_type": "stream",
     "text": [
      "IV\n"
     ]
    },
    {
     "data": {
      "text/plain": [
       "romanNumeral: scala.collection.immutable.Map[Int,String] = Map(5 -> V, 1 -> I, 2 -> II, 3 -> III, 4 -> IV)\n"
      ]
     },
     "execution_count": 24,
     "metadata": {},
     "output_type": "execute_result"
    }
   ],
   "source": [
    "val romanNumeral = Map(1 -> \"I\", 2 -> \"II\", 3 -> \"III\", 4 -> \"IV\", 5 -> \"V\")\n",
    "println(romanNumeral(4))\n",
    "// Listing 3.8 - Creating, initializing, and using an immutable map."
   ]
  },
  {
   "cell_type": "markdown",
   "metadata": {},
   "source": [
    "Given there are no imports, when you say `Map` in the first line of Listing 3.8, you'll get the default:\n",
    "a `scala.collection.immutable.Map`. You pass five key/value tuples to the map's factory method, which\n",
    "returns an immutable `Map` containing the passed key/value pairs. If you run the code in Listing 3.8 it\n",
    "will print `\"IV\"`."
   ]
  },
  {
   "cell_type": "markdown",
   "metadata": {},
   "source": [
    "### STEP 11. LEARN TO RECOGNIZE THE FUNCTIONAL STYLE"
   ]
  },
  {
   "cell_type": "markdown",
   "metadata": {},
   "source": [
    "As mentioned in Chapter 1, Scala allows you to program in an imperative style, but encourages you to\n",
    "adopt a more functional style. If you are coming to Scala from an imperative background—for\n",
    "example, if you are a Java programmer —one of the main challenges you may face when learning Scala\n",
    "is figuring out how to program in the functional style. We realize this style might be unfamiliar at first,\n",
    "and in this book we try hard to guide you through the transition. It will require some work on your part,\n",
    "and we encourage you to make the effort. If you come from an imperative background, we believe that\n",
    "learning to program in a functional style will not only make you a better Scala programmer, it will\n",
    "expand your horizons and make you a better programmer in general.\n",
    "\n",
    "The first step is to recognize the difference between the two styles in code. One tell tale sign is that if\n",
    "code contains any vars, it is probably in an imperative style. If the code contains no vars at all —i.e., it\n",
    "contains only vals—it is probably in a functional style. One way to move towards a functional style,\n",
    "therefore, is to try to program without vars.\n",
    "\n",
    "If you're coming from an imperative background, such as Java, C++, or C#, you may think of var as a\n",
    "regular variable and val as a special kind of variable. On the other hand, if you're coming from a\n",
    "functional background, such as Haskell, OCaml, or Erlang, you might think of val as a regular variable\n",
    "and var as a kind to blasphemy. The Scala perspective, however, is that val and var are just two different\n",
    "tools in your toolbox, both useful, neither inherently evil. Scala encourages you to lean towards vals,\n",
    "but ultimately reach for the best tool given the job at hand. Even if you agree with this balanced\n",
    "philosophy, however, you may still find it challenging at first to figure out how to get rid of vars in\n",
    "your code.\n",
    "\n",
    "Consider the following while loop example, adapted from Chapter 2, which uses a var and is therefore\n",
    "in the imperative style:"
   ]
  },
  {
   "cell_type": "code",
   "execution_count": 25,
   "metadata": {},
   "outputs": [
    {
     "data": {
      "text/plain": [
       "printArgs: (args: Array[String])Unit\n"
      ]
     },
     "execution_count": 25,
     "metadata": {},
     "output_type": "execute_result"
    }
   ],
   "source": [
    "def printArgs(args: Array[String]): Unit = {\n",
    "    var i = 0\n",
    "    while (i < args.length) {\n",
    "        println(args(i))\n",
    "        i += 1\n",
    "    }\n",
    "}"
   ]
  },
  {
   "cell_type": "markdown",
   "metadata": {},
   "source": [
    "You can transform this bit of code into a more functional style by getting rid of the var, for example,\n",
    "like this:"
   ]
  },
  {
   "cell_type": "code",
   "execution_count": 26,
   "metadata": {},
   "outputs": [
    {
     "data": {
      "text/plain": [
       "printArgs: (args: Array[String])Unit\n"
      ]
     },
     "execution_count": 26,
     "metadata": {},
     "output_type": "execute_result"
    }
   ],
   "source": [
    "def printArgs(args: Array[String]): Unit = {\n",
    "    for (arg <- args)\n",
    "    println(arg)\n",
    "}"
   ]
  },
  {
   "cell_type": "markdown",
   "metadata": {},
   "source": [
    "or this:"
   ]
  },
  {
   "cell_type": "code",
   "execution_count": 27,
   "metadata": {},
   "outputs": [
    {
     "data": {
      "text/plain": [
       "printArgs: (args: Array[String])Unit\n"
      ]
     },
     "execution_count": 27,
     "metadata": {},
     "output_type": "execute_result"
    }
   ],
   "source": [
    "def printArgs(args: Array[String]): Unit = {\n",
    "    args.foreach(println)\n",
    "}"
   ]
  },
  {
   "cell_type": "markdown",
   "metadata": {},
   "source": [
    "This example illustrates one benefit of programming with fewer vars. The refactored (more functional)\n",
    "code is clearer, more concise, and less error-prone than the original (more imperative) code. The reason\n",
    "Scala encourages a functional style is that it can help you write more understandable, less error-prone\n",
    "code.\n",
    "\n",
    "But you can go even further. The refactored `printArgs` method is not purely functional because it has\n",
    "side effects —in this case, its side effect is printing to the standard output stream. The tell tale sign of a\n",
    "function with side effects is that its result type is Unit. If a function isn't returning any interesting value,\n",
    "which is what a result type of Unit means, the only way that function can make a difference in the\n",
    "world is through some kind of side effect. A more functional approach would be to define a method that\n",
    "formats the passed args for printing, but just returns the formatted string, as shown in Listing 3.9:"
   ]
  },
  {
   "cell_type": "code",
   "execution_count": 28,
   "metadata": {},
   "outputs": [
    {
     "data": {
      "text/plain": [
       "formatArgs: (args: Array[String])String\n"
      ]
     },
     "execution_count": 28,
     "metadata": {},
     "output_type": "execute_result"
    }
   ],
   "source": [
    "def formatArgs(args: Array[String]) = args.mkString(\"\\n\")\n",
    "// Listing 3.9 - A function without side effects or vars."
   ]
  },
  {
   "cell_type": "markdown",
   "metadata": {},
   "source": [
    "Now you're really functional: no side effects or vars in sight. The mkString method, which you can call\n",
    "on any iterable collection (including arrays, lists, sets, and maps), returns a string consisting of the\n",
    "result of calling toString on each element, separated by the passed string. Thus if args contains three\n",
    "elements `\"zero\"`, `\"one\"`, and `\"two\"`, `formatArgs` will return `\"zero\\none\\ntwo\"`. Of course, this function\n",
    "doesn't actually print anything out like the print `Argsmethods` did, but you can easily pass its result\n",
    "to println to accomplish that:"
   ]
  },
  {
   "cell_type": "code",
   "execution_count": 36,
   "metadata": {},
   "outputs": [
    {
     "name": "stdout",
     "output_type": "stream",
     "text": [
      "zero\n",
      "one\n",
      "two\n"
     ]
    },
    {
     "data": {
      "text/plain": [
       "args: Array[String] = Array(zero, one, two)\n"
      ]
     },
     "execution_count": 36,
     "metadata": {},
     "output_type": "execute_result"
    }
   ],
   "source": [
    "val args = Array(\"zero\", \"one\", \"two\")\n",
    "println(formatArgs(args))"
   ]
  },
  {
   "cell_type": "markdown",
   "metadata": {},
   "source": [
    "Every useful program is likely to have side effects of some form; otherwise, it wouldn't be able to\n",
    "provide value to the outside world. Preferring methods without side effects encourages you to design\n",
    "programs where side-effecting code is minimized. One benefit of this approach is that it can help make\n",
    "your programs easier to test.\n",
    "\n",
    "For example, to test any of the three `printArgs` methods shown earlier in this section, you'd need to\n",
    "redefine `println`, capture the output passed to it, and make sure it is what you expect. By contrast, you\n",
    "could test the `formatArgs` function simply by checking its result:"
   ]
  },
  {
   "cell_type": "code",
   "execution_count": 37,
   "metadata": {},
   "outputs": [
    {
     "data": {
      "text/plain": [
       "res: String =\r\n",
       "zero\r\n",
       "one\r\n",
       "two\n"
      ]
     },
     "execution_count": 37,
     "metadata": {},
     "output_type": "execute_result"
    }
   ],
   "source": [
    "val res = formatArgs(Array(\"zero\", \"one\", \"two\"))\n",
    "assert(res == \"zero\\none\\ntwo\")"
   ]
  },
  {
   "cell_type": "markdown",
   "metadata": {},
   "source": [
    "Scala's assert method checks the passed Boolean and if it is `false`, throws `AssertionError`. If the\n",
    "passed Boolean is `true`, assert just returns quietly. You'll learn more about assertions and tests\n",
    "in Chapter 14.\n",
    "\n",
    "That said, bear in mind that neither vars nor side effects are inherently evil. Scala is not a pure\n",
    "functional language that forces you to program everything in the functional style. Scala is a hybrid\n",
    "imperative/functional language. You may find that in some situations an imperative style is a better fit\n",
    "for the problem at hand, and in such cases you should not hesitate to use it. To help you learn how to\n",
    "program without vars, however, we'll show you many specific examples of code with vars and how to\n",
    "transform those vars to vals in Chapter 7."
   ]
  },
  {
   "cell_type": "markdown",
   "metadata": {},
   "source": [
    "### A BALANCED ATTITUDE FOR SCALA PROGRAMMERS"
   ]
  },
  {
   "cell_type": "markdown",
   "metadata": {},
   "source": [
    "Prefer vals, immutable objects, and methods without side effects. Reach for them first. Use vars,\n",
    "mutable objects, and methods with side effects when you have a specific need and justification for\n",
    "them."
   ]
  },
  {
   "cell_type": "markdown",
   "metadata": {},
   "source": [
    "### STEP 12. READ LINES FROM A FILE"
   ]
  },
  {
   "cell_type": "markdown",
   "metadata": {},
   "source": [
    "Scripts that perform small, everyday tasks often need to process lines in files. In this section, you'll\n",
    "build a script that reads lines from a file and prints them out prepended with the number of characters\n",
    "in each line. The first version is shown in Listing 3.10:\n",
    "\n",
    "```scala\n",
    "import scala.io.Source\n",
    "\n",
    "if (args.length > 0) {\n",
    "    for (line <- Source.fromFile(args(0)).getLines())\n",
    "        println(line.length + \" \" + line)\n",
    "}\n",
    "else\n",
    "    Console.err.println(\"Please enter filename\")\n",
    "```\n",
    "**Listing 3.10 - Reading lines from a file.**"
   ]
  },
  {
   "cell_type": "markdown",
   "metadata": {},
   "source": [
    "This script starts with an `import` of a class named `Source` from package `scala.io`. It then checks to see if\n",
    "at least one argument was specified on the command line. If so, the first argument is interpreted as a\n",
    "filename to open and process. The expression `Source.fromFile(args(0))` attempts to open the specified\n",
    "file and returns a Source object, on which you call getLines. The `getLines` method returns\n",
    "an `Iterator[String]`, which provides one line on each iteration, excluding the end-of-line character.\n",
    "\n",
    "The for expression iterates through these lines and prints for each the length of the line, a space, and the\n",
    "line itself. If there were no arguments supplied on the command line, the final else clause will print a\n",
    "message to the standard error stream. If you place this code in a file named `countchars1.scala`, and run\n",
    "it on itself with:"
   ]
  },
  {
   "cell_type": "markdown",
   "metadata": {},
   "source": [
    "```\n",
    "$ scala countchars1.scala countchars1.scala\n",
    "```\n",
    "You should see:\n",
    "\n",
    "```scala\n",
    "22 import scala.io.Source\n",
    "0\n",
    "22 if (args.length > 0) {\n",
    "0\n",
    "51 for (line <- Source.fromFile(args(0)).getLines())\n",
    "37 println(line.length + \" \" + line)\n",
    "1 }\n",
    "4 else\n",
    "46 Console.err.println(\"Please enter filename\")\n",
    "```"
   ]
  },
  {
   "cell_type": "code",
   "execution_count": 44,
   "metadata": {},
   "outputs": [
    {
     "name": "stdout",
     "output_type": "stream",
     "text": [
      "22 import scala.io.Source\n",
      "22 if (args.length > 0) {\n",
      "53     for (line <- Source.fromFile(args(0)).getLines())\n",
      "41         println(line.length + \" \" + line)\n",
      "1 }\n",
      "4 else\n",
      "48     Console.err.println(\"Please enter filename\")\n"
     ]
    },
    {
     "data": {
      "text/plain": [
       "import scala.io.Source\n"
      ]
     },
     "execution_count": 44,
     "metadata": {},
     "output_type": "execute_result"
    }
   ],
   "source": [
    "import scala.io.Source\n",
    "\n",
    "if (args.length > 0) {\n",
    "    // replaced args(0) with an explicit path to avoid running from terminal in notebook\n",
    "    for (line <- Source.fromFile(\"../scripts/countchars1.scala\").getLines())\n",
    "    println(line.length + \" \" + line)\n",
    "}\n",
    "else\n",
    "    Console.err.println(\"Please enter filename\")"
   ]
  },
  {
   "cell_type": "markdown",
   "metadata": {},
   "source": [
    "Although the script in its current form prints out the needed information, you may wish to line up the\n",
    "numbers, right adjusted, and add a pipe character, so that the output looks instead like:\n",
    "\n",
    "```scala\n",
    "22 | import scala.io.Source\n",
    " 0 |\n",
    "22 | if (args.length > 0) {\n",
    " 0 |\n",
    "51 | for (line <- Source.fromFile(args(0)).getLines())\n",
    "37 | println(line.length + \" \" + line)\n",
    " 1 | }\n",
    " 4 | else\n",
    "46 | Console.err.println(\"Please enter filename\")\n",
    "```"
   ]
  },
  {
   "cell_type": "markdown",
   "metadata": {},
   "source": [
    "To accomplish this, you can iterate through the lines twice. The first time through you'll determine the\n",
    "maximum width required by any line's character count. The second time through you'll print the output,\n",
    "using the maximum width calculated previously. Because you'll be iterating through the lines twice,\n",
    "you may as well assign them to a variable:"
   ]
  },
  {
   "cell_type": "code",
   "execution_count": 46,
   "metadata": {},
   "outputs": [
    {
     "data": {
      "text/plain": [
       "lines: List[String] = List(import scala.io.Source, \"\", if (args.length > 0) {, \"    for (line <- Source.fromFile(args(0)).getLines())\", \"        println(line.length + \" \" + line)\", }, else, \"    Console.err.println(\"Please enter filename\")\")\n"
      ]
     },
     "execution_count": 46,
     "metadata": {},
     "output_type": "execute_result"
    }
   ],
   "source": [
    "// replaced args(0) with an explicit path to avoid running from terminal in notebook\n",
    "val lines = Source.fromFile(\"../scripts/countchars1.scala\").getLines().toList"
   ]
  },
  {
   "cell_type": "markdown",
   "metadata": {},
   "source": [
    "The final `toList` is required because the `getLines` method returns an iterator. Once you've iterated\n",
    "through an iterator, it is spent. By transforming it into a list via the `toList` call, you gain the ability to\n",
    "iterate as many times as you wish, at the cost of storing all lines from the file in memory at once.\n",
    "\n",
    "The lines variable, therefore, references a list of strings that contains the contents of the file specified\n",
    "on the command line. Next, because you'll be calculating the width of each line's character count twice,\n",
    "once per iteration, you might factor that expression out into a small function, which calculates the\n",
    "character width of the passed string's length:"
   ]
  },
  {
   "cell_type": "code",
   "execution_count": 47,
   "metadata": {},
   "outputs": [
    {
     "data": {
      "text/plain": [
       "widthOfLength: (s: String)Int\n"
      ]
     },
     "execution_count": 47,
     "metadata": {},
     "output_type": "execute_result"
    }
   ],
   "source": [
    "def widthOfLength(s: String) = s.length.toString.length"
   ]
  },
  {
   "cell_type": "markdown",
   "metadata": {},
   "source": [
    "With this function, you could calculate the maximum width like this:"
   ]
  },
  {
   "cell_type": "code",
   "execution_count": 48,
   "metadata": {},
   "outputs": [
    {
     "data": {
      "text/plain": [
       "maxWidth: Int = 2\n"
      ]
     },
     "execution_count": 48,
     "metadata": {},
     "output_type": "execute_result"
    }
   ],
   "source": [
    "var maxWidth = 0\n",
    "for (line <- lines)\n",
    "maxWidth = maxWidth.max(widthOfLength(line))"
   ]
  },
  {
   "cell_type": "markdown",
   "metadata": {},
   "source": [
    "Here you iterate through each line with a for expression, calculate the character width of that line's length, and, if it is larger than the current maximum, assign it to `maxWidth`, a var that was initialized to `0`. (The max method, which you can invoke on any `Int`, returns the greater of the value on which it was invoked and the value passed to it.) Alternatively, if you prefer to find the maximum without vars, you could first find the longest line like this:"
   ]
  },
  {
   "cell_type": "code",
   "execution_count": 49,
   "metadata": {},
   "outputs": [
    {
     "data": {
      "text/plain": [
       "longestLine: String = \"    for (line <- Source.fromFile(args(0)).getLines())\"\n"
      ]
     },
     "execution_count": 49,
     "metadata": {},
     "output_type": "execute_result"
    }
   ],
   "source": [
    "val longestLine = lines.reduceLeft((a, b) => if (a.length > b.length) a else b)"
   ]
  },
  {
   "cell_type": "markdown",
   "metadata": {},
   "source": [
    "The `reduceLeft` method applies the passed function to the first two elements in lines, then applies it to\n",
    "the result of the first application and the next element in lines, and so on, all the way through the list.\n",
    "On each such application, the result will be the longest line encountered so far because the passed\n",
    "function, `(a, b) => if (a.length > b.length) a else b`, returns the longest of the two passed strings.\n",
    "\"`reduceLeft`\" will return the result of the last application of the function, which in this case will be the\n",
    "longest string element contained in lines.\n",
    "\n",
    "Given this result, you can calculate the maximum width by passing the longest line `towidthOfLength`:"
   ]
  },
  {
   "cell_type": "code",
   "execution_count": 50,
   "metadata": {},
   "outputs": [
    {
     "data": {
      "text/plain": [
       "maxWidth: Int = 2\n"
      ]
     },
     "execution_count": 50,
     "metadata": {},
     "output_type": "execute_result"
    }
   ],
   "source": [
    "val maxWidth = widthOfLength(longestLine)"
   ]
  },
  {
   "cell_type": "markdown",
   "metadata": {},
   "source": [
    "All that remains is to print out the lines with proper formatting. You can do that like this:"
   ]
  },
  {
   "cell_type": "code",
   "execution_count": 51,
   "metadata": {},
   "outputs": [
    {
     "name": "stdout",
     "output_type": "stream",
     "text": [
      "22 | import scala.io.Source\n",
      " 0 | \n",
      "22 | if (args.length > 0) {\n",
      "53 |     for (line <- Source.fromFile(args(0)).getLines())\n",
      "41 |         println(line.length + \" \" + line)\n",
      " 1 | }\n",
      " 4 | else\n",
      "48 |     Console.err.println(\"Please enter filename\")\n"
     ]
    }
   ],
   "source": [
    "for (line <- lines) {\n",
    "    val numSpaces = maxWidth - widthOfLength(line)\n",
    "    val padding = \" \" * numSpaces\n",
    "    println(padding + line.length + \" | \" + line)\n",
    "}"
   ]
  },
  {
   "cell_type": "markdown",
   "metadata": {},
   "source": [
    "In this `for` expression, you once again iterate through the lines. For each line, you first calculate the\n",
    "number of spaces required before the line length and assign it to `numSpaces`. Then you create a string\n",
    "containing `numSpaces` spaces with the expression `\" \" * numSpaces`. Finally, you print out the\n",
    "information with the desired formatting. The entire script looks as shown in Listing 3.11:"
   ]
  },
  {
   "cell_type": "code",
   "execution_count": 52,
   "metadata": {},
   "outputs": [
    {
     "name": "stdout",
     "output_type": "stream",
     "text": [
      "22 | import scala.io.Source\n",
      " 0 | \n",
      "22 | if (args.length > 0) {\n",
      "53 |     for (line <- Source.fromFile(args(0)).getLines())\n",
      "41 |         println(line.length + \" \" + line)\n",
      " 1 | }\n",
      " 4 | else\n",
      "48 |     Console.err.println(\"Please enter filename\")\n",
      " 0 | \n",
      "57 | // val lines = Source.fromFile(args(0)).getLines().toList\n"
     ]
    },
    {
     "data": {
      "text/plain": [
       "import scala.io.Source\r\n",
       "widthOfLength: (s: String)Int\n"
      ]
     },
     "execution_count": 52,
     "metadata": {},
     "output_type": "execute_result"
    }
   ],
   "source": [
    "import scala.io.Source\n",
    "\n",
    "def widthOfLength(s: String) = s.length.toString.length\n",
    "\n",
    "if (args.length > 0) {\n",
    "    // replaced args(0) with an explicit path to avoid running from terminal in notebook\n",
    "    val lines = Source.fromFile(\"../scripts/countchars1.scala\").getLines().toList\n",
    "    val longestLine = lines.reduceLeft(\n",
    "        (a, b) => if (a.length > b.length) a else b\n",
    "    )\n",
    "    val maxWidth = widthOfLength(longestLine)\n",
    "    for (line <- lines) {\n",
    "        val numSpaces = maxWidth - widthOfLength(line)\n",
    "        val padding = \" \" * numSpaces\n",
    "        println(padding + line.length + \" | \" + line)\n",
    "    }\n",
    "}\n",
    "else\n",
    "    Console.err.println(\"Please enter filename\")\n",
    "// Listing 3.11 - Printing formatted character counts for the lines of a file."
   ]
  },
  {
   "cell_type": "markdown",
   "metadata": {},
   "source": [
    "## CONCLUSION"
   ]
  },
  {
   "cell_type": "markdown",
   "metadata": {},
   "source": [
    "With the knowledge you've gained in this chapter, you should be able to start using Scala for small\n",
    "tasks, especially scripts. In later chapters, we will dive further into these topics and introduce other\n",
    "topics that weren't even hinted at here.\n",
    "\n",
    "#### Footnotes for Chapter 3:\n",
    "\n",
    "[1] This to method actually returns not an array but a different kind of sequence, containing the values 0, 1, and 2, which the for expression iterates over. Sequences and other collections will be described in Chapter 17.  \n",
    "[2] Variable-length argument lists, or repeated parameters, are described in Section 8.8.  \n",
    "[3] You don't need to say new List because \"List.apply()\" is defined as a factory method on the scala.List companion object. You'll read more on companion objects in Section 4.3.  \n",
    "[4] The reason you need Nil at the end is that :: is defined on class List. If you try to just say1 :: 2 :: 3, it won't compile because 3 is an Int, which doesn't have a :: method.  \n",
    "[5] Although conceptually you could create tuples of any length, currently the Scala library only defines them up to Tuple22.  \n",
    "[6] Because the set in Listing 3.6 is mutable, there is no need to reassign movieSet, which is why it can be a val. By contrast, using += with the immutable set in Listing 3.5 required reassigning jetSet, which is why it must be a var.  \n",
    "[7] The explicit type parameterization, \"[Int, String]\", is required in Listing 3.7 because without any values passed to the factory method, the compiler is unable to infer the map's type parameters. By contrast, the compiler can infer the type parameters from the values passed to the map factory shown in Listing 3.8, thus no explicit type parameters are needed.  \n",
    "[8] The Scala mechanism that allows you to invoke -> on any object, implicit conversion, will be covered in Chapter 21."
   ]
  }
 ],
 "metadata": {
  "kernelspec": {
   "display_name": "spylon-kernel",
   "language": "scala",
   "name": "spylon-kernel"
  },
  "language_info": {
   "codemirror_mode": "text/x-scala",
   "file_extension": ".scala",
   "help_links": [
    {
     "text": "MetaKernel Magics",
     "url": "https://metakernel.readthedocs.io/en/latest/source/README.html"
    }
   ],
   "mimetype": "text/x-scala",
   "name": "scala",
   "pygments_lexer": "scala",
   "version": "0.4.1"
  }
 },
 "nbformat": 4,
 "nbformat_minor": 4
}
