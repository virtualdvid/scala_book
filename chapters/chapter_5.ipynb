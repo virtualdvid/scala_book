{
 "cells": [
  {
   "cell_type": "markdown",
   "metadata": {},
   "source": [
    "# Chapter 5"
   ]
  },
  {
   "cell_type": "markdown",
   "metadata": {},
   "source": [
    "## Basic Types and Operations"
   ]
  },
  {
   "cell_type": "markdown",
   "metadata": {},
   "source": [
    "Now that you've seen classes and objects in action, it's a good time to look at Scala's basic types and operations in more depth. If you're familiar with Java, you'll be glad to find that Java's basic types and operators have the same meaning in Scala. However, there are some interesting differences that will make this chapter worth reading even if you're an experienced Java developer. Because some aspects of Scala covered in this chapter are essentially the same as in Java, we've inserted notes indicating what sections Java developers can safely skip.\n",
    "\n",
    "In this chapter, you'll get an overview of Scala's basic types, including `Strings` and the value types `Int`, `Long`, `Short`, `Byte`, `Float`, `Double`, `Char`, and `Boolean`. You'll learn the operations you can perform on these types, including how operator precedence works in Scala expressions. You'll also learn how implicit conversions can \"enrich\" variants of these basic types, giving you additional operations beyond those supported by Java."
   ]
  },
  {
   "cell_type": "markdown",
   "metadata": {},
   "source": [
    "## 5.1 SOME BASIC TYPES"
   ]
  },
  {
   "cell_type": "markdown",
   "metadata": {},
   "source": [
    "Several fundamental types of Scala, along with the ranges of values instances of these types may have, are shown in Table 5.1. Collectively, types `Byte`, `Short`, `Int`, `Long`, and `Char` are called integral types. The integral types plus `Float` and `Double` are called numeric types.\n",
    "\n",
    "#### Table 5.1 - Some basic types\n",
    "| Basic | type Range |\n",
    "| :--- | :--- |\n",
    "| Byte | 8-bit signed two's complement integer (-27 to 27 - 1, inclusive) |\n",
    "| Short | 16-bit signed two's complement integer (-215 to 215 - 1, inclusive) |\n",
    "| Int | 32-bit signed two's complement integer (-231 to 231 - 1, inclusive) |\n",
    "| Long | 64-bit signed two's complement integer (-263 to 263 - 1, inclusive) |\n",
    "| Char | 16-bit unsigned Unicode character (0 to 216 - 1, inclusive) |\n",
    "| String | a sequence of Chars |\n",
    "| Float | 32-bit IEEE 754 single-precision float |\n",
    "| Double | 64-bit IEEE 754 double-precision float |\n",
    "| Boolean | true or false |\n",
    "\n",
    "Other than `String`, which resides in package `java.lang`, all of the types shown in Table 5.1 are members of package scala.[1] For example, the full name of `Int` is `scala.Int`. However, given that all the members of package scala and `java.lang` are automatically imported into every Scala source file, you can just use the simple names (i.e., names like `Boolean`, `Char`, or `String`) everywhere. Savvy Java developers will note that Scala's basic types have the exact same ranges as the corresponding types in Java. This enables the Scala compiler to transform instances of Scalavalue types, such as `Int` or `Double`, down to Java primitive types in the bytecodes it produces."
   ]
  },
  {
   "cell_type": "markdown",
   "metadata": {},
   "source": [
    "## 5.2 LITERALS"
   ]
  },
  {
   "cell_type": "markdown",
   "metadata": {},
   "source": [
    "All of the basic types listed in Table 5.1 can be written with literals. A literal is a way to write a constant value directly in code.\n",
    "\n",
    "### FAST TRACK FOR JAVA PROGRAMMERS\n",
    "\n",
    "The syntax of most literals shown in this section are exactly the same as in Java, so if you're a Java master, you can safely skip much of this section. Some differences you should read about are Scala's literals for raw strings and symbols, described starting here, and string interpolation, described starting here. Also, Scala does not support octal literals; integer literals that start with a 0, such as 031, do not compile.\n",
    "\n",
    "#### Integer literals\n",
    "\n",
    "Integer literals for the types `Int`, `Long`, `Short`, and `Byte` come in two forms: `decimal` and `hexadecimal`. The way an integer literal begins indicates the base of the number. If the number begins with a `0x` or `0X`, it is hexadecimal (base 16), and may contain `0` through `9` as well as upper or lowercase digits A through `F`. Some examples are:"
   ]
  },
  {
   "cell_type": "code",
   "execution_count": 2,
   "metadata": {},
   "outputs": [
    {
     "data": {
      "text/plain": [
       "hex: Int = 5\n"
      ]
     },
     "execution_count": 2,
     "metadata": {},
     "output_type": "execute_result"
    }
   ],
   "source": [
    "val hex = 0x5"
   ]
  },
  {
   "cell_type": "code",
   "execution_count": 3,
   "metadata": {},
   "outputs": [
    {
     "data": {
      "text/plain": [
       "hex2: Int = 255\n"
      ]
     },
     "execution_count": 3,
     "metadata": {},
     "output_type": "execute_result"
    }
   ],
   "source": [
    "val hex2 = 0x00FF"
   ]
  },
  {
   "cell_type": "code",
   "execution_count": 5,
   "metadata": {},
   "outputs": [
    {
     "data": {
      "text/plain": [
       "magic: Int = -889275714\n"
      ]
     },
     "execution_count": 5,
     "metadata": {},
     "output_type": "execute_result"
    }
   ],
   "source": [
    "val magic = 0xcafebabe"
   ]
  },
  {
   "cell_type": "markdown",
   "metadata": {},
   "source": [
    "Note that the Scala shell always prints integer values in base 10, no matter what literal form you may have used to initialize it. Thus the interpreter displays the value of the `hex2` variable you initialized with literal `0x00FF` as decimal `255`. (Of course, you don't need to take our word for it. A good way to start getting a feel for the language is to try these statements out in the interpreter as you read this chapter.) If the number begins with a non-zero digit, and is otherwise undecorated, it is decimal (base 10). For example:"
   ]
  },
  {
   "cell_type": "code",
   "execution_count": 6,
   "metadata": {},
   "outputs": [
    {
     "data": {
      "text/plain": [
       "dec1: Int = 31\n"
      ]
     },
     "execution_count": 6,
     "metadata": {},
     "output_type": "execute_result"
    }
   ],
   "source": [
    "val dec1 = 31"
   ]
  },
  {
   "cell_type": "code",
   "execution_count": 7,
   "metadata": {},
   "outputs": [
    {
     "data": {
      "text/plain": [
       "dec2: Int = 255\n"
      ]
     },
     "execution_count": 7,
     "metadata": {},
     "output_type": "execute_result"
    }
   ],
   "source": [
    "val dec2 = 255"
   ]
  },
  {
   "cell_type": "code",
   "execution_count": 8,
   "metadata": {},
   "outputs": [
    {
     "data": {
      "text/plain": [
       "dec3: Int = 20\n"
      ]
     },
     "execution_count": 8,
     "metadata": {},
     "output_type": "execute_result"
    }
   ],
   "source": [
    "val dec3 = 20"
   ]
  },
  {
   "cell_type": "markdown",
   "metadata": {},
   "source": [
    "If an integer literal ends in an `L` or `l`, it is a `Long`; otherwise it is an `Int`. Some examples of `Long` integer\n",
    "literals are:"
   ]
  },
  {
   "cell_type": "code",
   "execution_count": 9,
   "metadata": {},
   "outputs": [
    {
     "data": {
      "text/plain": [
       "prog: Long = 3405691582\n"
      ]
     },
     "execution_count": 9,
     "metadata": {},
     "output_type": "execute_result"
    }
   ],
   "source": [
    "val prog = 0XCAFEBABEL"
   ]
  },
  {
   "cell_type": "code",
   "execution_count": 10,
   "metadata": {},
   "outputs": [
    {
     "data": {
      "text/plain": [
       "tower: Long = 35\n"
      ]
     },
     "execution_count": 10,
     "metadata": {},
     "output_type": "execute_result"
    }
   ],
   "source": [
    "val tower = 35L"
   ]
  },
  {
   "cell_type": "code",
   "execution_count": 11,
   "metadata": {},
   "outputs": [
    {
     "data": {
      "text/plain": [
       "of: Long = 31\n"
      ]
     },
     "execution_count": 11,
     "metadata": {},
     "output_type": "execute_result"
    }
   ],
   "source": [
    "val of = 31l"
   ]
  },
  {
   "cell_type": "markdown",
   "metadata": {},
   "source": [
    "If an `Int` literal is assigned to a variable of type `Short` or `Byte`, the literal is treated as if it were\n",
    "a `Short` or `Byte` type so long as the literal value is within the valid range for that type. For example:"
   ]
  },
  {
   "cell_type": "code",
   "execution_count": 20,
   "metadata": {},
   "outputs": [
    {
     "data": {
      "text/plain": [
       "little: Short = 367\n"
      ]
     },
     "execution_count": 20,
     "metadata": {},
     "output_type": "execute_result"
    }
   ],
   "source": [
    "val little: Short = 367"
   ]
  },
  {
   "cell_type": "code",
   "execution_count": 21,
   "metadata": {},
   "outputs": [
    {
     "data": {
      "text/plain": [
       "littler: Byte = 38\n"
      ]
     },
     "execution_count": 21,
     "metadata": {},
     "output_type": "execute_result"
    }
   ],
   "source": [
    "val littler: Byte = 38"
   ]
  },
  {
   "cell_type": "markdown",
   "metadata": {},
   "source": [
    "#### Floating point literals\n",
    "\n",
    "Floating point literals are made up of decimal digits, optionally containing a decimal point, and optionally followed by an `E` or `e` and an `exponent`. Some examples of `floating-point` literals are:"
   ]
  },
  {
   "cell_type": "code",
   "execution_count": 17,
   "metadata": {},
   "outputs": [
    {
     "data": {
      "text/plain": [
       "big: Double = 1.2345\n"
      ]
     },
     "execution_count": 17,
     "metadata": {},
     "output_type": "execute_result"
    }
   ],
   "source": [
    "val big = 1.2345"
   ]
  },
  {
   "cell_type": "code",
   "execution_count": 18,
   "metadata": {},
   "outputs": [
    {
     "data": {
      "text/plain": [
       "bigger: Double = 12.345\n"
      ]
     },
     "execution_count": 18,
     "metadata": {},
     "output_type": "execute_result"
    }
   ],
   "source": [
    "val bigger = 1.2345e1"
   ]
  },
  {
   "cell_type": "code",
   "execution_count": 19,
   "metadata": {},
   "outputs": [
    {
     "data": {
      "text/plain": [
       "biggerStill: Double = 1.23E47\n"
      ]
     },
     "execution_count": 19,
     "metadata": {},
     "output_type": "execute_result"
    }
   ],
   "source": [
    "val biggerStill = 123E45"
   ]
  },
  {
   "cell_type": "markdown",
   "metadata": {},
   "source": [
    "Note that the exponent portion means the power of 10 by which the other portion is multiplied. Thus, `1.2345e1` is `1.2345` times `101`, which is `12.345`. If a `floating-point` literal ends in an `F` or `f`, it is a `Float`; otherwise it is a `Double`. Optionally, a `Double` `floating-point` literal can end in `D` or `d`. Some examples of `Float` literals are:"
   ]
  },
  {
   "cell_type": "code",
   "execution_count": 22,
   "metadata": {},
   "outputs": [
    {
     "data": {
      "text/plain": [
       "little: Float = 1.2345\n"
      ]
     },
     "execution_count": 22,
     "metadata": {},
     "output_type": "execute_result"
    }
   ],
   "source": [
    "val little = 1.2345F"
   ]
  },
  {
   "cell_type": "code",
   "execution_count": 23,
   "metadata": {},
   "outputs": [
    {
     "data": {
      "text/plain": [
       "littleBigger: Float = 300000.0\n"
      ]
     },
     "execution_count": 23,
     "metadata": {},
     "output_type": "execute_result"
    }
   ],
   "source": [
    "val littleBigger = 3e5f"
   ]
  },
  {
   "cell_type": "markdown",
   "metadata": {},
   "source": [
    "That last value expressed as a `Double` could take these (and other) forms:"
   ]
  },
  {
   "cell_type": "code",
   "execution_count": 24,
   "metadata": {},
   "outputs": [
    {
     "data": {
      "text/plain": [
       "anotherDouble: Double = 300000.0\n"
      ]
     },
     "execution_count": 24,
     "metadata": {},
     "output_type": "execute_result"
    }
   ],
   "source": [
    "val anotherDouble = 3e5"
   ]
  },
  {
   "cell_type": "code",
   "execution_count": 25,
   "metadata": {},
   "outputs": [
    {
     "data": {
      "text/plain": [
       "yetAnother: Double = 300000.0\n"
      ]
     },
     "execution_count": 25,
     "metadata": {},
     "output_type": "execute_result"
    }
   ],
   "source": [
    "val yetAnother = 3e5D"
   ]
  },
  {
   "cell_type": "markdown",
   "metadata": {},
   "source": [
    "#### Character literals\n",
    "\n",
    "Character literals are composed of any `Unicode` character between single quotes, such as:"
   ]
  },
  {
   "cell_type": "code",
   "execution_count": 26,
   "metadata": {},
   "outputs": [
    {
     "data": {
      "text/plain": [
       "a: Char = A\n"
      ]
     },
     "execution_count": 26,
     "metadata": {},
     "output_type": "execute_result"
    }
   ],
   "source": [
    "val a = 'A'"
   ]
  },
  {
   "cell_type": "markdown",
   "metadata": {},
   "source": [
    "In addition to providing an explicit character between the single quotes, you can identify a character using its Unicode code point. To do so, write `\\u` followed by four hex digits with the code point, like this:"
   ]
  },
  {
   "cell_type": "code",
   "execution_count": 27,
   "metadata": {},
   "outputs": [
    {
     "data": {
      "text/plain": [
       "d: Char = A\n"
      ]
     },
     "execution_count": 27,
     "metadata": {},
     "output_type": "execute_result"
    }
   ],
   "source": [
    "val d = '\\u0041'"
   ]
  },
  {
   "cell_type": "code",
   "execution_count": 28,
   "metadata": {},
   "outputs": [
    {
     "data": {
      "text/plain": [
       "f: Char = D\n"
      ]
     },
     "execution_count": 28,
     "metadata": {},
     "output_type": "execute_result"
    }
   ],
   "source": [
    "val f = '\\u0044'"
   ]
  },
  {
   "cell_type": "markdown",
   "metadata": {},
   "source": [
    "In fact, such Unicode characters can appear anywhere in a Scala program. For instance you could also write an identifier like this:"
   ]
  },
  {
   "cell_type": "code",
   "execution_count": 29,
   "metadata": {},
   "outputs": [
    {
     "data": {
      "text/plain": [
       "BAD: Int = 1\n"
      ]
     },
     "execution_count": 29,
     "metadata": {},
     "output_type": "execute_result"
    }
   ],
   "source": [
    "val B\\u0041\\u0044 = 1"
   ]
  },
  {
   "cell_type": "markdown",
   "metadata": {},
   "source": [
    "This identifier is treated as identical to BAD, the result of expanding the two Unicode characters in the code above. In general, it is a bad idea to name identifiers like this because it is hard to read. Rather, this syntax is intended to allow Scala source files that include non-ASCII Unicode characters to be represented in ASCII.\n",
    "\n",
    "Finally, there are also a few character literals represented by special escape sequences, shown in Table 5.2. For example:"
   ]
  },
  {
   "cell_type": "code",
   "execution_count": 30,
   "metadata": {},
   "outputs": [
    {
     "data": {
      "text/plain": [
       "backslash: Char = \\\n"
      ]
     },
     "execution_count": 30,
     "metadata": {},
     "output_type": "execute_result"
    }
   ],
   "source": [
    "val backslash = '\\\\'"
   ]
  },
  {
   "cell_type": "markdown",
   "metadata": {},
   "source": [
    "#### Table 5.2 - Special character literal escape sequences\n",
    "\n",
    "| Literal | Meaning |\n",
    "| :--- | :--- |\n",
    "| \\n | line feed (\\u000A) |\n",
    "| \\b | backspace (\\u0008) |\n",
    "| \\t | tab (\\u0009) |\n",
    "| \\f | form feed (\\u000C) |\n",
    "| \\r | carriage return (\\u000D) |\n",
    "| \\\" | double quote (\\u0022) |\n",
    "| \\' | single quote (\\u0027) |\n",
    "| \\\\ | backslash (\\u005C) |\n",
    "\n",
    "### String literals\n",
    "\n",
    "A string literal is composed of characters surrounded by double quotes:"
   ]
  },
  {
   "cell_type": "code",
   "execution_count": 31,
   "metadata": {},
   "outputs": [
    {
     "data": {
      "text/plain": [
       "hello: String = hello\n"
      ]
     },
     "execution_count": 31,
     "metadata": {},
     "output_type": "execute_result"
    }
   ],
   "source": [
    "val hello = \"hello\""
   ]
  },
  {
   "cell_type": "markdown",
   "metadata": {},
   "source": [
    "The syntax of the characters within the quotes is the same as with character literals. For example:"
   ]
  },
  {
   "cell_type": "code",
   "execution_count": 32,
   "metadata": {},
   "outputs": [
    {
     "data": {
      "text/plain": [
       "escapes: String = \\\"'\n"
      ]
     },
     "execution_count": 32,
     "metadata": {},
     "output_type": "execute_result"
    }
   ],
   "source": [
    "val escapes = \"\\\\\\\"\\'\""
   ]
  },
  {
   "cell_type": "markdown",
   "metadata": {},
   "source": [
    "Because this syntax is awkward for strings that contain a lot of escape sequences or strings that span multiple lines, Scala includes a special syntax for raw strings. You start and end a raw string with three double quotation marks in a row `(\"\"\")`. The interior of a raw string may contain any characters whatsoever, including newlines, quotation marks, and special characters, except of course three quotes in a row. For example, the following program prints out a message using a raw string:"
   ]
  },
  {
   "cell_type": "code",
   "execution_count": 34,
   "metadata": {},
   "outputs": [
    {
     "name": "stdout",
     "output_type": "stream",
     "text": [
      "Welcome to Ultamix 3000.\n",
      "           Type \"HELP\" for help.\n"
     ]
    }
   ],
   "source": [
    "println(\"\"\"Welcome to Ultamix 3000.\n",
    "           Type \"HELP\" for help.\"\"\")"
   ]
  },
  {
   "cell_type": "markdown",
   "metadata": {},
   "source": [
    "However, running this code does not produce quite what is desired:\n",
    "\n",
    "```\n",
    "Welcome to Ultamix 3000.\n",
    "Type \"HELP\" for help.\n",
    "```\n",
    "\n",
    "The issue is that the leading spaces before the second line are included in the string! To help with this common situation, you can call `stripMargin` on strings. To use this method, put a pipe character `(|)` at the front of each line, and then call `stripMargin` on the whole string:"
   ]
  },
  {
   "cell_type": "code",
   "execution_count": 35,
   "metadata": {},
   "outputs": [
    {
     "name": "stdout",
     "output_type": "stream",
     "text": [
      "Welcome to Ultamix 3000.\n",
      "Type \"HELP\" for help.\n"
     ]
    }
   ],
   "source": [
    "println(\"\"\"|Welcome to Ultamix 3000.\n",
    "           |Type \"HELP\" for help.\"\"\".stripMargin)"
   ]
  },
  {
   "cell_type": "markdown",
   "metadata": {},
   "source": [
    "Now the code behaves as desired:\n",
    "\n",
    "```\n",
    "Welcome to Ultamix 3000.\n",
    "Type \"HELP\" for help.\n",
    "```\n",
    "\n",
    "### Symbol literals\n",
    "\n",
    "A symbol literal is written `'ident`, where ident can be any alphanumeric identifier. Such literals are mapped to instances of the predefined class `scala.Symbol`. Specifically, the literal `'cymbal` will be expanded by the compiler to a factory method invocation: `Symbol(\"cymbal\")`. Symbol literals are typically used in situations where you would use just an identifier in a dynamically typed language. For instance, you might want to define a method that updates a record in a database:"
   ]
  },
  {
   "cell_type": "code",
   "execution_count": 37,
   "metadata": {},
   "outputs": [
    {
     "data": {
      "text/plain": [
       "updateRecordByName: (r: Symbol, value: Any)Unit\n"
      ]
     },
     "execution_count": 37,
     "metadata": {},
     "output_type": "execute_result"
    }
   ],
   "source": [
    "def updateRecordByName(r: Symbol, value: Any) = {\n",
    "    // code goes here\n",
    "}"
   ]
  },
  {
   "cell_type": "markdown",
   "metadata": {},
   "source": [
    "The method takes as parameters a symbol indicating the name of a record field and a value with which the field should be updated in the record. In a dynamically typed language, you could invoke this operation passing an undeclared field identifier to the method, but in Scala this would not compile:"
   ]
  },
  {
   "cell_type": "code",
   "execution_count": 38,
   "metadata": {},
   "outputs": [
    {
     "ename": "<console>",
     "evalue": "28: error: not found: value favoriteAlbum\r",
     "output_type": "error",
     "traceback": [
      "<console>:28: error: not found: value favoriteAlbum\r",
      "       updateRecordByName(favoriteAlbum, \"OK Computer\")\r",
      "                          ^",
      ""
     ]
    }
   ],
   "source": [
    "updateRecordByName(favoriteAlbum, \"OK Computer\")"
   ]
  },
  {
   "cell_type": "markdown",
   "metadata": {},
   "source": [
    "Instead, and almost as concisely, you can pass a symbol literal:"
   ]
  },
  {
   "cell_type": "code",
   "execution_count": 39,
   "metadata": {},
   "outputs": [],
   "source": [
    "updateRecordByName('favoriteAlbum, \"OK Computer\")"
   ]
  },
  {
   "cell_type": "markdown",
   "metadata": {},
   "source": [
    "There is not much you can do with a symbol, except find out its name:"
   ]
  },
  {
   "cell_type": "code",
   "execution_count": 40,
   "metadata": {},
   "outputs": [
    {
     "data": {
      "text/plain": [
       "s: Symbol = 'aSymbol\n"
      ]
     },
     "execution_count": 40,
     "metadata": {},
     "output_type": "execute_result"
    }
   ],
   "source": [
    "val s = 'aSymbol"
   ]
  },
  {
   "cell_type": "code",
   "execution_count": 41,
   "metadata": {},
   "outputs": [
    {
     "data": {
      "text/plain": [
       "nm: String = aSymbol\n"
      ]
     },
     "execution_count": 41,
     "metadata": {},
     "output_type": "execute_result"
    }
   ],
   "source": [
    "val nm = s.name"
   ]
  },
  {
   "cell_type": "markdown",
   "metadata": {},
   "source": [
    "Another thing that's noteworthy is that symbols are interned. If you write the same symbol literal twice, both expressions will refer to the exact same Symbol object.\n",
    "\n",
    "#### Boolean literals\n",
    "\n",
    "The Boolean type has two literals, true and false:"
   ]
  },
  {
   "cell_type": "code",
   "execution_count": 43,
   "metadata": {},
   "outputs": [
    {
     "data": {
      "text/plain": [
       "bool: Boolean = true\n"
      ]
     },
     "execution_count": 43,
     "metadata": {},
     "output_type": "execute_result"
    }
   ],
   "source": [
    "val bool = true"
   ]
  },
  {
   "cell_type": "code",
   "execution_count": 44,
   "metadata": {},
   "outputs": [
    {
     "data": {
      "text/plain": [
       "fool: Boolean = false\n"
      ]
     },
     "execution_count": 44,
     "metadata": {},
     "output_type": "execute_result"
    }
   ],
   "source": [
    "val fool = false"
   ]
  },
  {
   "cell_type": "markdown",
   "metadata": {},
   "source": [
    "That's all there is to it. You are now literally[2] an expert in Scala."
   ]
  },
  {
   "cell_type": "markdown",
   "metadata": {},
   "source": [
    "## 5.3 STRING INTERPOLATION"
   ]
  },
  {
   "cell_type": "markdown",
   "metadata": {},
   "source": [
    "Scala includes a flexible mechanism for string interpolation, which allows you to embed expressions within string literals. Its most common use case is to provide a concise and readable alternative to string concatenation. Here's an example:"
   ]
  },
  {
   "cell_type": "code",
   "execution_count": 45,
   "metadata": {},
   "outputs": [
    {
     "name": "stdout",
     "output_type": "stream",
     "text": [
      "Hello, reader!\n"
     ]
    },
    {
     "data": {
      "text/plain": [
       "name: String = reader\n"
      ]
     },
     "execution_count": 45,
     "metadata": {},
     "output_type": "execute_result"
    }
   ],
   "source": [
    "val name = \"reader\"\n",
    "println(s\"Hello, $name!\")"
   ]
  },
  {
   "cell_type": "markdown",
   "metadata": {},
   "source": [
    "The expression, `s\"Hello, $name!\"` is a processed string literal. Because the letter `s` immediately precedes the open quote, Scala will use the `s` string interpolator to process the literal. The `s` interpolator will evaluate each embedded expression, invoke `toString` on each result, and replace the embedded expressions in the literal with those results. Thus `s\"Hello, $name!\"` yields `\"Hello, reader!\"`, the same result as `\"Hello, \" + name + \"!\"`.\n",
    "\n",
    "You can place any expression after a dollar sign `($)` in a processed string literal. For single-variable expressions, you can often just place the variable name after the dollar sign. Scala will interpret all characters up to the first non-identifier character as the expression. If the expression includes nonidentifier characters, you must place it in curly braces, with the open curly brace immediately following the dollar sign. Here's an example:"
   ]
  },
  {
   "cell_type": "code",
   "execution_count": 46,
   "metadata": {},
   "outputs": [
    {
     "data": {
      "text/plain": [
       "res6: String = The answer is 42.\n"
      ]
     },
     "execution_count": 46,
     "metadata": {},
     "output_type": "execute_result"
    }
   ],
   "source": [
    "s\"The answer is ${6 * 7}.\""
   ]
  },
  {
   "cell_type": "markdown",
   "metadata": {},
   "source": [
    "Scala provides two other string interpolators by default: `raw` and `f`. The `raw` string interpolator behaves like `s`, except it does not recognize character literal escape sequences (such as those shown in Table 5.2). For example, the following statement prints four backslashes, not two:"
   ]
  },
  {
   "cell_type": "code",
   "execution_count": 47,
   "metadata": {},
   "outputs": [
    {
     "name": "stdout",
     "output_type": "stream",
     "text": [
      "No\\\\\\\\escape!\n"
     ]
    }
   ],
   "source": [
    "println(raw\"No\\\\\\\\escape!\") // prints: No\\\\\\\\escape!"
   ]
  },
  {
   "cell_type": "markdown",
   "metadata": {},
   "source": [
    "The `f` string interpolator allows you to attach print `f-style` formatting instructions to embedded expressions. You place the instructions after the expression, starting with a percent sign `(%)`, using the syntax specified by `java.util.Formatter`. For example, here's how you might format pi:"
   ]
  },
  {
   "cell_type": "code",
   "execution_count": 48,
   "metadata": {},
   "outputs": [
    {
     "data": {
      "text/plain": [
       "res8: String = 3.14159\n"
      ]
     },
     "execution_count": 48,
     "metadata": {},
     "output_type": "execute_result"
    }
   ],
   "source": [
    "f\"${math.Pi}%.5f\""
   ]
  },
  {
   "cell_type": "markdown",
   "metadata": {},
   "source": [
    "If you provide no formatting instructions for an embedded expression, the f string interpolator will default to `%s`, which means the `toString` value will be substituted, just like thes string interpolator. For example:"
   ]
  },
  {
   "cell_type": "code",
   "execution_count": 49,
   "metadata": {},
   "outputs": [
    {
     "data": {
      "text/plain": [
       "pi: String = Pi\n"
      ]
     },
     "execution_count": 49,
     "metadata": {},
     "output_type": "execute_result"
    }
   ],
   "source": [
    "val pi = \"Pi\""
   ]
  },
  {
   "cell_type": "code",
   "execution_count": 50,
   "metadata": {},
   "outputs": [
    {
     "data": {
      "text/plain": [
       "res9: String = Pi is approximately 3.14159265.\n"
      ]
     },
     "execution_count": 50,
     "metadata": {},
     "output_type": "execute_result"
    }
   ],
   "source": [
    "f\"$pi is approximately ${math.Pi}%.8f.\""
   ]
  },
  {
   "cell_type": "markdown",
   "metadata": {},
   "source": [
    "In Scala, string interpolation is implemented by rewriting code at compile time. The compiler will treat any expression consisting of an identifier followed immediately by the open double quote of a string literal as a string interpolator expression. The `s`, `f`, and `raw` string interpolators are implemented via this general mechanism. Libraries and users can define other string interpolators for other purposes."
   ]
  },
  {
   "cell_type": "markdown",
   "metadata": {},
   "source": [
    "## 5.4 OPERATORS ARE METHODS"
   ]
  },
  {
   "cell_type": "markdown",
   "metadata": {},
   "source": [
    "Scala provides a rich set of operators for its basic types. As mentioned in previous chapters, these operators are actually just a nice syntax for ordinary method calls. For example, `1 + 2` really means the same thing as `1.+(2)`. In other words, class `Int` contains a method named `+` that takes an `Int` and returns an `Int` result. This `+` method is invoked when you add two Ints:"
   ]
  },
  {
   "cell_type": "code",
   "execution_count": 51,
   "metadata": {},
   "outputs": [
    {
     "data": {
      "text/plain": [
       "sum: Int = 3\n"
      ]
     },
     "execution_count": 51,
     "metadata": {},
     "output_type": "execute_result"
    }
   ],
   "source": [
    "val sum = 1 + 2 // Scala invokes 1.+(2)"
   ]
  },
  {
   "cell_type": "markdown",
   "metadata": {},
   "source": [
    "To prove this to yourself, you can write the expression explicitly as a method invocation:"
   ]
  },
  {
   "cell_type": "code",
   "execution_count": 52,
   "metadata": {},
   "outputs": [
    {
     "data": {
      "text/plain": [
       "sumMore: Int = 3\n"
      ]
     },
     "execution_count": 52,
     "metadata": {},
     "output_type": "execute_result"
    }
   ],
   "source": [
    "val sumMore = 1.+(2)"
   ]
  },
  {
   "cell_type": "markdown",
   "metadata": {},
   "source": [
    "In fact, `Int` contains several overloaded `+` methods that take different parameter types.[3] For example, `Int` has another method, also named `+`, that takes and returns a `Long`. If you add a `Long` to an `Int`, this alternate `+` method will be invoked, as in:"
   ]
  },
  {
   "cell_type": "code",
   "execution_count": 53,
   "metadata": {},
   "outputs": [
    {
     "data": {
      "text/plain": [
       "longSum: Long = 3\n"
      ]
     },
     "execution_count": 53,
     "metadata": {},
     "output_type": "execute_result"
    }
   ],
   "source": [
    "val longSum = 1 + 2L // Scala invokes 1.+(2L)"
   ]
  },
  {
   "cell_type": "markdown",
   "metadata": {},
   "source": [
    "The `+` symbol is an operator —an infix operator to be specific. Operator notation is not limited to methods like `+` that look like operators in other languages. You can use any method in operator notation. For example, class `String` has a method, `indexOf`, that takes one `Char` parameter.\n",
    "\n",
    "The `indexOf` method searches the string for the first occurrence of the specified character and returns its index or `-1` if it doesn't find the character. You can use `indexOf` as an operator, like this:"
   ]
  },
  {
   "cell_type": "code",
   "execution_count": 55,
   "metadata": {},
   "outputs": [
    {
     "data": {
      "text/plain": [
       "s: String = Hello, world!\n"
      ]
     },
     "execution_count": 55,
     "metadata": {},
     "output_type": "execute_result"
    }
   ],
   "source": [
    "val s = \"Hello, world!\""
   ]
  },
  {
   "cell_type": "code",
   "execution_count": 56,
   "metadata": {},
   "outputs": [
    {
     "data": {
      "text/plain": [
       "res10: Int = 4\n"
      ]
     },
     "execution_count": 56,
     "metadata": {},
     "output_type": "execute_result"
    }
   ],
   "source": [
    "s indexOf 'o' // Scala invokes s.indexOf('o')"
   ]
  },
  {
   "cell_type": "markdown",
   "metadata": {},
   "source": [
    "In addition, String offers an overloaded `indexOf` method that takes two parameters, the character for which to search and an index at which to start. (The other `indexOf` method, shown previously, starts at index zero, the beginning of the String.)\n",
    "\n",
    "Even though this `indexOf` method takes two arguments, you can use it in operator notation. But whenever you call a method that takes multiple arguments using operator notation, you have to place those arguments in parentheses. For example, here's how you use this other `indexOf` form as an operator (continuing from the previous example):"
   ]
  },
  {
   "cell_type": "code",
   "execution_count": 57,
   "metadata": {},
   "outputs": [
    {
     "data": {
      "text/plain": [
       "res11: Int = 8\n"
      ]
     },
     "execution_count": 57,
     "metadata": {},
     "output_type": "execute_result"
    }
   ],
   "source": [
    "s indexOf ('o', 5) // Scala invokes s.indexOf('o', 5)"
   ]
  },
  {
   "cell_type": "markdown",
   "metadata": {},
   "source": [
    "### ANY METHOD CAN BE AN OPERATOR\n",
    "\n",
    "In Scala operators are not special language syntax; any method can be an operator. What makes a method an operator is how you use it. When you write `s.indexOf('o')`, `indexOf` is not an operator. But when you write `s indexOf 'o'`, `indexOf` is an operator, because you're using it in operator notation.\n",
    "\n",
    "So far, you've seen examples of infix operator notation, which means the method to invoke sits between the object and the parameter (or parameters) you wish to pass to the method, as in `7 + 2`. Scala also has two other operator notations: `prefix` and `postfix`. In `prefix` notation, you put the method name before the object on which you are invoking the method (for example, the `-'` in `-7`). In postfix notation, you put the method after the object (for example, the `toLong` in `7 toLong`).\n",
    "\n",
    "In contrast to the infix operator notation —in which operators take two operands, one to the left and the other to the right —prefix and postfix operators are unary: they take just one operand. In prefix notation, the operand is to the right of the operator. Some examples of prefix operators are -2.0, !found, and ~0xFF. As with the infix operators, these prefix operators are a shorthand way of invoking methods. In this case, however, the name of the method has `unary_` prepended to the operator\n",
    "character. For instance, Scala will transform the expression -2.0 into the method invocation `(2.0).unary_-`. You can demonstrate this to yourself by typing the method call both via operator notation and explicitly:"
   ]
  },
  {
   "cell_type": "code",
   "execution_count": 58,
   "metadata": {},
   "outputs": [
    {
     "data": {
      "text/plain": [
       "res12: Double = -2.0\n"
      ]
     },
     "execution_count": 58,
     "metadata": {},
     "output_type": "execute_result"
    }
   ],
   "source": [
    "-2.0 // Scala invokes (2.0).unary_-"
   ]
  },
  {
   "cell_type": "code",
   "execution_count": 59,
   "metadata": {},
   "outputs": [
    {
     "data": {
      "text/plain": [
       "res13: Double = -2.0\n"
      ]
     },
     "execution_count": 59,
     "metadata": {},
     "output_type": "execute_result"
    }
   ],
   "source": [
    "(2.0).unary_-"
   ]
  },
  {
   "cell_type": "markdown",
   "metadata": {},
   "source": [
    "The only identifiers that can be used as prefix operators are `+`, `-`, `!`, and `~`. Thus, if you define a method named `unary_!`, you could invoke that method on a value or variable of the appropriate type using prefix operator notation, such as `!p`. But if you define a method named `unary_*`, you wouldn't be able to use prefix operator notation because `*` isn't one of the four identifiers that can be used as prefix operators. You could invoke the method normally, as `inp.unary_*`, but if you attempted to invoke it via `*p`, Scala will parse it as if you'd written `*.p`, which is probably not what you had in mind![4]\n",
    "\n",
    "Postfix operators are methods that take no arguments, when they are invoked without a dot or parentheses. In Scala, you can leave off empty parentheses on method calls. The convention is that you include parentheses if the method has side effects, such as println(), but you can leave them off if the method has no side effects, such as `toLowerCase` invoked on a `String`:"
   ]
  },
  {
   "cell_type": "code",
   "execution_count": 60,
   "metadata": {},
   "outputs": [
    {
     "data": {
      "text/plain": [
       "s: String = Hello, world!\n"
      ]
     },
     "execution_count": 60,
     "metadata": {},
     "output_type": "execute_result"
    }
   ],
   "source": [
    "val s = \"Hello, world!\""
   ]
  },
  {
   "cell_type": "code",
   "execution_count": 61,
   "metadata": {},
   "outputs": [
    {
     "data": {
      "text/plain": [
       "res14: String = hello, world!\n"
      ]
     },
     "execution_count": 61,
     "metadata": {},
     "output_type": "execute_result"
    }
   ],
   "source": [
    "s.toLowerCase"
   ]
  },
  {
   "cell_type": "markdown",
   "metadata": {},
   "source": [
    "In this latter case of a method that requires no arguments, you can alternatively leave off the dot and use postfix operator notation:"
   ]
  },
  {
   "cell_type": "code",
   "execution_count": 62,
   "metadata": {},
   "outputs": [
    {
     "data": {
      "text/plain": [
       "warning: there was one feature warning; re-run with -feature for details\n",
       "res15: String = hello, world!\n"
      ]
     },
     "execution_count": 62,
     "metadata": {},
     "output_type": "execute_result"
    }
   ],
   "source": [
    "s toLowerCase"
   ]
  },
  {
   "cell_type": "markdown",
   "metadata": {},
   "source": [
    "In this case, `toLowerCase` is used as a postfix operator on the operand `s`. Therefore, to see what operators you can use with Scala's basic types, all you really need to do is look at the methods declared in the type's classes in the Scala API documentation. Given that this is a Scala tutorial, however, we'll give you a quick tour of most of these methods in the next few sections.\n",
    "\n",
    "### FAST TRACK FOR JAVA PROGRAMMERS\n",
    "\n",
    "Many aspects of Scala described in the remainder of this chapter are the same as in Java. If you're a Java guru in a rush, you can safely skip to Section 5.8 here, which describes how Scala differs from Java in the area of object equality."
   ]
  },
  {
   "cell_type": "markdown",
   "metadata": {},
   "source": [
    "## 5.5 ARITHMETIC OPERATIONS"
   ]
  },
  {
   "cell_type": "markdown",
   "metadata": {},
   "source": [
    "You can invoke arithmetic methods via infix operator notation for addition `(+)`, subtraction `(-)`, multiplication `(*)`, division `(/)`, and remainder `(%)` on any numeric type. Here are some examples:"
   ]
  },
  {
   "cell_type": "code",
   "execution_count": 63,
   "metadata": {},
   "outputs": [
    {
     "data": {
      "text/plain": [
       "res16: Double = 3.5\n"
      ]
     },
     "execution_count": 63,
     "metadata": {},
     "output_type": "execute_result"
    }
   ],
   "source": [
    "1.2 + 2.3"
   ]
  },
  {
   "cell_type": "code",
   "execution_count": 64,
   "metadata": {},
   "outputs": [
    {
     "data": {
      "text/plain": [
       "res17: Int = 2\n"
      ]
     },
     "execution_count": 64,
     "metadata": {},
     "output_type": "execute_result"
    }
   ],
   "source": [
    "3 - 1"
   ]
  },
  {
   "cell_type": "code",
   "execution_count": 65,
   "metadata": {},
   "outputs": [
    {
     "data": {
      "text/plain": [
       "res18: Int = 1\n"
      ]
     },
     "execution_count": 65,
     "metadata": {},
     "output_type": "execute_result"
    }
   ],
   "source": [
    "'b' - 'a'"
   ]
  },
  {
   "cell_type": "code",
   "execution_count": 66,
   "metadata": {},
   "outputs": [
    {
     "data": {
      "text/plain": [
       "res19: Long = 6\n"
      ]
     },
     "execution_count": 66,
     "metadata": {},
     "output_type": "execute_result"
    }
   ],
   "source": [
    "2L * 3L"
   ]
  },
  {
   "cell_type": "code",
   "execution_count": 67,
   "metadata": {},
   "outputs": [
    {
     "data": {
      "text/plain": [
       "res20: Int = 2\n"
      ]
     },
     "execution_count": 67,
     "metadata": {},
     "output_type": "execute_result"
    }
   ],
   "source": [
    "11 / 4"
   ]
  },
  {
   "cell_type": "code",
   "execution_count": 68,
   "metadata": {},
   "outputs": [
    {
     "data": {
      "text/plain": [
       "res21: Int = 3\n"
      ]
     },
     "execution_count": 68,
     "metadata": {},
     "output_type": "execute_result"
    }
   ],
   "source": [
    "11 % 4"
   ]
  },
  {
   "cell_type": "code",
   "execution_count": 69,
   "metadata": {},
   "outputs": [
    {
     "data": {
      "text/plain": [
       "res22: Float = 2.75\n"
      ]
     },
     "execution_count": 69,
     "metadata": {},
     "output_type": "execute_result"
    }
   ],
   "source": [
    "11.0f / 4.0f"
   ]
  },
  {
   "cell_type": "code",
   "execution_count": 70,
   "metadata": {},
   "outputs": [
    {
     "data": {
      "text/plain": [
       "res23: Double = 3.0\n"
      ]
     },
     "execution_count": 70,
     "metadata": {},
     "output_type": "execute_result"
    }
   ],
   "source": [
    "11.0 % 4.0"
   ]
  },
  {
   "cell_type": "markdown",
   "metadata": {},
   "source": [
    "When both the left and right operands are integral types (`Int`, `Long`, `Byte`, `Short`, or `Char`), the `/` operator will tell you the whole number portion of the quotient, excluding any remainder. The `%` operator indicates the remainder of an implied integer division.\n",
    "\n",
    "The floating-point remainder you get with `%` is not the one defined by the IEEE 754 standard. The IEEE 754 remainder uses rounding division, not truncating division, in calculating the remainder, so it is quite different from the integer remainder operation. If you really want an IEEE 754 remainder, you can call IEEEremainder on scala.math, as in:"
   ]
  },
  {
   "cell_type": "code",
   "execution_count": 71,
   "metadata": {},
   "outputs": [
    {
     "data": {
      "text/plain": [
       "res24: Double = -1.0\n"
      ]
     },
     "execution_count": 71,
     "metadata": {},
     "output_type": "execute_result"
    }
   ],
   "source": [
    "math.IEEEremainder(11.0, 4.0)"
   ]
  },
  {
   "cell_type": "markdown",
   "metadata": {},
   "source": [
    "The numeric types also offer `unary` prefix operators `+` (method `unary_+`) and `-` (method `unary_-`), which allow you to indicate whether a literal number is positive or negative, as in `-3` or `+4.0`. If you don't specify a unary `+` or `-`, a literal number is interpreted as positive. Unary `+` exists solely for symmetry with unary `-`, but has no effect. The unary `-` can also be used to negate a variable. Here are some examples:"
   ]
  },
  {
   "cell_type": "code",
   "execution_count": 72,
   "metadata": {},
   "outputs": [
    {
     "data": {
      "text/plain": [
       "neg: Int = -2\n"
      ]
     },
     "execution_count": 72,
     "metadata": {},
     "output_type": "execute_result"
    }
   ],
   "source": [
    "val neg = 1 + -3"
   ]
  },
  {
   "cell_type": "code",
   "execution_count": 73,
   "metadata": {},
   "outputs": [
    {
     "data": {
      "text/plain": [
       "y: Int = 3\n"
      ]
     },
     "execution_count": 73,
     "metadata": {},
     "output_type": "execute_result"
    }
   ],
   "source": [
    "val y = +3"
   ]
  },
  {
   "cell_type": "code",
   "execution_count": 74,
   "metadata": {},
   "outputs": [
    {
     "data": {
      "text/plain": [
       "res25: Int = 2\n"
      ]
     },
     "execution_count": 74,
     "metadata": {},
     "output_type": "execute_result"
    }
   ],
   "source": [
    "-neg"
   ]
  },
  {
   "cell_type": "markdown",
   "metadata": {},
   "source": [
    "## 5.6 RELATIONAL AND LOGICAL OPERATIONS"
   ]
  },
  {
   "cell_type": "markdown",
   "metadata": {},
   "source": [
    "You can compare numeric types with relational methods greater than `(>)`, less than `(<)`, greater than or equal to `(>=)`, and less than or equal to `(<=)`, which yield a Boolean result. In addition, you can use the unary `!'` operator (the `unary_!` method) to invert a Boolean value. Here are a few examples:"
   ]
  },
  {
   "cell_type": "code",
   "execution_count": 75,
   "metadata": {},
   "outputs": [
    {
     "data": {
      "text/plain": [
       "res26: Boolean = false\n"
      ]
     },
     "execution_count": 75,
     "metadata": {},
     "output_type": "execute_result"
    }
   ],
   "source": [
    "1 > 2"
   ]
  },
  {
   "cell_type": "code",
   "execution_count": 76,
   "metadata": {},
   "outputs": [
    {
     "data": {
      "text/plain": [
       "res27: Boolean = true\n"
      ]
     },
     "execution_count": 76,
     "metadata": {},
     "output_type": "execute_result"
    }
   ],
   "source": [
    "1 < 2"
   ]
  },
  {
   "cell_type": "code",
   "execution_count": 77,
   "metadata": {},
   "outputs": [
    {
     "data": {
      "text/plain": [
       "res28: Boolean = true\n"
      ]
     },
     "execution_count": 77,
     "metadata": {},
     "output_type": "execute_result"
    }
   ],
   "source": [
    "1.0 <= 1.0"
   ]
  },
  {
   "cell_type": "code",
   "execution_count": 78,
   "metadata": {},
   "outputs": [
    {
     "data": {
      "text/plain": [
       "res29: Boolean = false\n"
      ]
     },
     "execution_count": 78,
     "metadata": {},
     "output_type": "execute_result"
    }
   ],
   "source": [
    "3.5f >= 3.6f"
   ]
  },
  {
   "cell_type": "code",
   "execution_count": 79,
   "metadata": {},
   "outputs": [
    {
     "data": {
      "text/plain": [
       "res30: Boolean = true\n"
      ]
     },
     "execution_count": 79,
     "metadata": {},
     "output_type": "execute_result"
    }
   ],
   "source": [
    "'a' >= 'A'"
   ]
  },
  {
   "cell_type": "code",
   "execution_count": 80,
   "metadata": {},
   "outputs": [
    {
     "data": {
      "text/plain": [
       "untrue: Boolean = false\n"
      ]
     },
     "execution_count": 80,
     "metadata": {},
     "output_type": "execute_result"
    }
   ],
   "source": [
    "val untrue = !true"
   ]
  },
  {
   "cell_type": "markdown",
   "metadata": {},
   "source": [
    "Logical methods, `logical-and` (`&&` and `&`) and `logical-or` (`||` and `|`), take Boolean operands in infix notation and yield a Boolean result. For example:"
   ]
  },
  {
   "cell_type": "code",
   "execution_count": 81,
   "metadata": {},
   "outputs": [
    {
     "data": {
      "text/plain": [
       "toBe: Boolean = true\n"
      ]
     },
     "execution_count": 81,
     "metadata": {},
     "output_type": "execute_result"
    }
   ],
   "source": [
    "val toBe = true"
   ]
  },
  {
   "cell_type": "code",
   "execution_count": 82,
   "metadata": {},
   "outputs": [
    {
     "data": {
      "text/plain": [
       "question: Boolean = true\n"
      ]
     },
     "execution_count": 82,
     "metadata": {},
     "output_type": "execute_result"
    }
   ],
   "source": [
    "val question = toBe || !toBe"
   ]
  },
  {
   "cell_type": "code",
   "execution_count": 83,
   "metadata": {},
   "outputs": [
    {
     "data": {
      "text/plain": [
       "paradox: Boolean = false\n"
      ]
     },
     "execution_count": 83,
     "metadata": {},
     "output_type": "execute_result"
    }
   ],
   "source": [
    "val paradox = toBe && !toBe"
   ]
  },
  {
   "cell_type": "markdown",
   "metadata": {},
   "source": [
    "The `&&` and `||` operations short-circuit as in Java: expressions built from these operators are only evaluated as far as needed to determine the result. In other words, the right-hand side of `&&` and `||` expressions won't be evaluated if the left-hand side determines the result. For example, if the left-hand side of a `&&` expression evaluates to false, the result of the expression will definitely be false, so the right-hand side is not evaluated. Likewise, if the left-hand side of a `||` expression evaluates to true, the result of the expression will definitely be true, so the right-hand side is not evaluated."
   ]
  },
  {
   "cell_type": "code",
   "execution_count": 84,
   "metadata": {},
   "outputs": [
    {
     "data": {
      "text/plain": [
       "salt: ()Boolean\n"
      ]
     },
     "execution_count": 84,
     "metadata": {},
     "output_type": "execute_result"
    }
   ],
   "source": [
    "def salt() = { println(\"salt\"); false }"
   ]
  },
  {
   "cell_type": "code",
   "execution_count": 85,
   "metadata": {},
   "outputs": [
    {
     "data": {
      "text/plain": [
       "pepper: ()Boolean\n"
      ]
     },
     "execution_count": 85,
     "metadata": {},
     "output_type": "execute_result"
    }
   ],
   "source": [
    "def pepper() = { println(\"pepper\"); true }"
   ]
  },
  {
   "cell_type": "code",
   "execution_count": 86,
   "metadata": {},
   "outputs": [
    {
     "name": "stdout",
     "output_type": "stream",
     "text": [
      "pepper\n",
      "salt\n"
     ]
    },
    {
     "data": {
      "text/plain": [
       "res31: Boolean = false\n"
      ]
     },
     "execution_count": 86,
     "metadata": {},
     "output_type": "execute_result"
    }
   ],
   "source": [
    "pepper() && salt()"
   ]
  },
  {
   "cell_type": "code",
   "execution_count": 87,
   "metadata": {},
   "outputs": [
    {
     "name": "stdout",
     "output_type": "stream",
     "text": [
      "salt\n"
     ]
    },
    {
     "data": {
      "text/plain": [
       "res32: Boolean = false\n"
      ]
     },
     "execution_count": 87,
     "metadata": {},
     "output_type": "execute_result"
    }
   ],
   "source": [
    "salt() && pepper()"
   ]
  },
  {
   "cell_type": "markdown",
   "metadata": {},
   "source": [
    "In the first expression, pepper and salt are invoked, but in the second, only salt is invoked.\n",
    "Given salt returns false, there's no need to call pepper.\n",
    "If you want to evaluate the right hand side no matter what, use `&` and `|` instead. The `&` method performs a `ogical-and` operation, and `|` a `logical-or`, but don't short-ciruit like `&&` and `||`. Here's an example:"
   ]
  },
  {
   "cell_type": "code",
   "execution_count": 88,
   "metadata": {},
   "outputs": [
    {
     "name": "stdout",
     "output_type": "stream",
     "text": [
      "salt\n",
      "pepper\n"
     ]
    },
    {
     "data": {
      "text/plain": [
       "res33: Boolean = false\n"
      ]
     },
     "execution_count": 88,
     "metadata": {},
     "output_type": "execute_result"
    }
   ],
   "source": [
    "salt() & pepper()"
   ]
  },
  {
   "cell_type": "markdown",
   "metadata": {},
   "source": [
    "#### Note\n",
    "\n",
    "You may be wondering how short-circuiting can work given operators are just methods. Normally, all arguments are evaluated before entering a method, so how can a method avoid evaluating its second argument? The answer is that all Scala methods have a facility for delaying the evaluation of their arguments, or even declining to evaluate them at all. The facility is called by-name parameters and is discussed in Section 9.5."
   ]
  },
  {
   "cell_type": "markdown",
   "metadata": {},
   "source": [
    "## 5.7 BITWISE OPERATIONS"
   ]
  },
  {
   "cell_type": "markdown",
   "metadata": {},
   "source": [
    "Scala enables you to perform operations on individual bits of integer types with several bitwise methods. The bitwise methods are: `bitwise-and` `(&)`, `bitwise-or` `(|)`, and `bitwise-xor` `(^)`.[5] The unary bitwise complement operator `(~, the method unary_~)` inverts each bit in its operand. For example:"
   ]
  },
  {
   "cell_type": "code",
   "execution_count": 89,
   "metadata": {},
   "outputs": [
    {
     "data": {
      "text/plain": [
       "res34: Int = 0\n"
      ]
     },
     "execution_count": 89,
     "metadata": {},
     "output_type": "execute_result"
    }
   ],
   "source": [
    "1 & 2"
   ]
  },
  {
   "cell_type": "code",
   "execution_count": 90,
   "metadata": {},
   "outputs": [
    {
     "data": {
      "text/plain": [
       "res35: Int = 3\n"
      ]
     },
     "execution_count": 90,
     "metadata": {},
     "output_type": "execute_result"
    }
   ],
   "source": [
    "1 | 2"
   ]
  },
  {
   "cell_type": "code",
   "execution_count": 91,
   "metadata": {},
   "outputs": [
    {
     "data": {
      "text/plain": [
       "res36: Int = 2\n"
      ]
     },
     "execution_count": 91,
     "metadata": {},
     "output_type": "execute_result"
    }
   ],
   "source": [
    "1 ^ 3"
   ]
  },
  {
   "cell_type": "code",
   "execution_count": 92,
   "metadata": {},
   "outputs": [
    {
     "data": {
      "text/plain": [
       "res37: Int = -2\n"
      ]
     },
     "execution_count": 92,
     "metadata": {},
     "output_type": "execute_result"
    }
   ],
   "source": [
    "~1"
   ]
  },
  {
   "cell_type": "markdown",
   "metadata": {},
   "source": [
    "The first expression, `1 & 2`, bitwise-ands each bit in 1 (0001) and 2 (0010), which yields 0 (0000). The second expression, `1 | 2`, bitwise-ors each bit in the same operands, yielding 3 (0011). The third expression, `1 ^ 3`, bitwise-xors each bit in 1 (0001) and 3 (0011), yielding 2 (0010). The final expression, `~1`, inverts each bit in 1 (0001), yielding -2, which in binary looks like `11111111111111111111111111111110`.\n",
    "\n",
    "Scala integer types also offer three shift methods: shift left `(<<)`, shift right `(>>)`, and unsigned shift right `(>>>)`. The shift methods, when used in infix operator notation, shift the integer value on the left of the operator by the amount specified by the integer value on the right. Shift left and unsigned shift right fill with zeroes as they shift. Shift right fills with the highest bit (the sign bit) of the left-hand value as it shifts. Here are some examples:"
   ]
  },
  {
   "cell_type": "code",
   "execution_count": 93,
   "metadata": {},
   "outputs": [
    {
     "data": {
      "text/plain": [
       "res38: Int = -1\n"
      ]
     },
     "execution_count": 93,
     "metadata": {},
     "output_type": "execute_result"
    }
   ],
   "source": [
    "-1 >> 31"
   ]
  },
  {
   "cell_type": "code",
   "execution_count": 94,
   "metadata": {},
   "outputs": [
    {
     "data": {
      "text/plain": [
       "res39: Int = 1\n"
      ]
     },
     "execution_count": 94,
     "metadata": {},
     "output_type": "execute_result"
    }
   ],
   "source": [
    "-1 >>> 31"
   ]
  },
  {
   "cell_type": "code",
   "execution_count": 95,
   "metadata": {},
   "outputs": [
    {
     "data": {
      "text/plain": [
       "res40: Int = 4\n"
      ]
     },
     "execution_count": 95,
     "metadata": {},
     "output_type": "execute_result"
    }
   ],
   "source": [
    "1 << 2"
   ]
  },
  {
   "cell_type": "markdown",
   "metadata": {},
   "source": [
    "`-1` in binary is `11111111111111111111111111111111`. In the first example, `-1 >> 31`, `-1` is shifted to the right 31 bit positions. Since an `Int` consists of 32 bits, this operation effectively moves the leftmost bit over until it becomes the rightmost bit.[6] Since the `>>` method fills with ones as it shifts right, because the leftmost bit of `-1` is `1`, the result is identical to the original left operand, `32` one bits, or `-1`. In the second example, `-1 >>> 31`, the leftmost bit is again shifted right until it is in the rightmost position, but this time filling with zeroes along the way. Thus the result this time is binary `00000000000000000000000000000001`, or `1`. In the final example, `1 << 2`, the left operand, `1`, is\n",
    "shifted left two positions (filling in with zeroes), resulting in binary `00000000000000000000000000000100`, or `4`."
   ]
  },
  {
   "cell_type": "markdown",
   "metadata": {},
   "source": [
    "## 5.8 OBJECT EQUALITY"
   ]
  },
  {
   "cell_type": "markdown",
   "metadata": {},
   "source": [
    "If you want to compare two objects for equality, you can use either `==` or its inverse `!=`. Here are a few simple examples:"
   ]
  },
  {
   "cell_type": "code",
   "execution_count": 96,
   "metadata": {},
   "outputs": [
    {
     "data": {
      "text/plain": [
       "res41: Boolean = false\n"
      ]
     },
     "execution_count": 96,
     "metadata": {},
     "output_type": "execute_result"
    }
   ],
   "source": [
    "1 == 2"
   ]
  },
  {
   "cell_type": "code",
   "execution_count": 97,
   "metadata": {},
   "outputs": [
    {
     "data": {
      "text/plain": [
       "res42: Boolean = true\n"
      ]
     },
     "execution_count": 97,
     "metadata": {},
     "output_type": "execute_result"
    }
   ],
   "source": [
    "1 != 2"
   ]
  },
  {
   "cell_type": "code",
   "execution_count": 98,
   "metadata": {},
   "outputs": [
    {
     "data": {
      "text/plain": [
       "res43: Boolean = true\n"
      ]
     },
     "execution_count": 98,
     "metadata": {},
     "output_type": "execute_result"
    }
   ],
   "source": [
    "2 == 2"
   ]
  },
  {
   "cell_type": "markdown",
   "metadata": {},
   "source": [
    "These operations actually apply to all objects, not just basic types. For example, you can use `==` to compare lists:"
   ]
  },
  {
   "cell_type": "code",
   "execution_count": 99,
   "metadata": {},
   "outputs": [
    {
     "data": {
      "text/plain": [
       "res44: Boolean = true\n"
      ]
     },
     "execution_count": 99,
     "metadata": {},
     "output_type": "execute_result"
    }
   ],
   "source": [
    "List(1, 2, 3) == List(1, 2, 3)"
   ]
  },
  {
   "cell_type": "code",
   "execution_count": 100,
   "metadata": {},
   "outputs": [
    {
     "data": {
      "text/plain": [
       "res45: Boolean = false\n"
      ]
     },
     "execution_count": 100,
     "metadata": {},
     "output_type": "execute_result"
    }
   ],
   "source": [
    "List(1, 2, 3) == List(4, 5, 6)"
   ]
  },
  {
   "cell_type": "markdown",
   "metadata": {},
   "source": [
    "Going further, you can compare two objects that have different types:"
   ]
  },
  {
   "cell_type": "code",
   "execution_count": 101,
   "metadata": {},
   "outputs": [
    {
     "data": {
      "text/plain": [
       "res46: Boolean = true\n"
      ]
     },
     "execution_count": 101,
     "metadata": {},
     "output_type": "execute_result"
    }
   ],
   "source": [
    "1 == 1.0"
   ]
  },
  {
   "cell_type": "code",
   "execution_count": 102,
   "metadata": {},
   "outputs": [
    {
     "data": {
      "text/plain": [
       "res47: Boolean = false\n"
      ]
     },
     "execution_count": 102,
     "metadata": {},
     "output_type": "execute_result"
    }
   ],
   "source": [
    "List(1, 2, 3) == \"hello\""
   ]
  },
  {
   "cell_type": "markdown",
   "metadata": {},
   "source": [
    "You can even compare against null, or against things that might be null. No exception will be thrown:"
   ]
  },
  {
   "cell_type": "code",
   "execution_count": 103,
   "metadata": {},
   "outputs": [
    {
     "data": {
      "text/plain": [
       "res48: Boolean = false\n"
      ]
     },
     "execution_count": 103,
     "metadata": {},
     "output_type": "execute_result"
    }
   ],
   "source": [
    "List(1, 2, 3) == null"
   ]
  },
  {
   "cell_type": "code",
   "execution_count": 104,
   "metadata": {},
   "outputs": [
    {
     "data": {
      "text/plain": [
       "res49: Boolean = false\n"
      ]
     },
     "execution_count": 104,
     "metadata": {},
     "output_type": "execute_result"
    }
   ],
   "source": [
    "null == List(1, 2, 3)"
   ]
  },
  {
   "cell_type": "markdown",
   "metadata": {},
   "source": [
    "As you see, `==` has been carefully crafted so that you get just the equality comparison you want in most cases. This is accomplished with a very simple rule: First check the left side for null. If it is not null, call the equals method. Since equals is a method, the precise comparison you get depends on the type of the left-hand argument. Since there is an automatic null check, you do not have to do the check yourself.[7]\n",
    "\n",
    "This kind of comparison will yield true on different objects, so long as their contents are the same and their equals method is written to be based on contents. For example, here is a comparison between two strings that happen to have the same five letters in them:"
   ]
  },
  {
   "cell_type": "code",
   "execution_count": 105,
   "metadata": {},
   "outputs": [
    {
     "data": {
      "text/plain": [
       "res50: Boolean = true\n"
      ]
     },
     "execution_count": 105,
     "metadata": {},
     "output_type": "execute_result"
    }
   ],
   "source": [
    "(\"he\" + \"llo\") == \"hello\""
   ]
  },
  {
   "cell_type": "markdown",
   "metadata": {},
   "source": [
    "### HOW SCALA'S == DIFFERS FROM JAVA'S\n",
    "\n",
    "In Java, you can use `==` to compare both primitive and reference types. On primitive types, Java's `==` compares value equality, as in Scala. On reference types, however, Java's `==` compares reference equality, which means the two variables point to the same object on the JVM's heap. Scala provides a facility for comparing reference equality, as well, under the name eq.\n",
    "However, `eq` and its opposite, `ne`, only apply to objects that directly map to Java objects. The full details about `eq` and `ne` are given in Sections 11.1 and 11.2. Also, see Chapter 30 on how to write a good equals method."
   ]
  },
  {
   "cell_type": "markdown",
   "metadata": {},
   "source": [
    "## 5.9 OPERATOR PRECEDENCE AND ASSOCIATIVITY"
   ]
  },
  {
   "cell_type": "markdown",
   "metadata": {},
   "source": [
    "Operator precedence determines which parts of an expression are evaluated before the other parts. For example, the expression `2 + 2 * 7` evaluates to `16`, not `28`, because the `*` operator has a higher precedence than the `+` operator. Thus the multiplication part of the expression is evaluated before the addition part. You can of course use parentheses in expressions to clarify evaluation order or to override precedence. For example, if you really wanted the result of the expression above to be 28, you could write the expression like this:\n",
    "\n",
    "```\n",
    "(2 + 2) * 7\n",
    "```\n",
    "\n",
    "Given that Scala doesn't have operators, per se, just a way to use methods in operator notation, you may be wondering how operator precedence works. Scala decides precedence based on the first character of the methods used in operator notation (there's one exception to this rule, which will be discussed in the following pages). If the method name starts with a `*`, for example, it will have a higher precedence than a method that starts with a `+`. Thus `2 + 2 * 7` will be evaluated as `2 + (2 * 7)`. Similarly, `a +++ b *** c` (in which `a`, `b`, and `c` are variables, and `+++` and `***` are methods) will be evaluated `a +++ (b *** c)`, because the `***` method has a higher precedence than the `+++` method.\n",
    "\n",
    "#### Table 5.3 - Operator precedence\n",
    "| (all other special characters) |\n",
    "| :---: |\n",
    "| * / % |\n",
    "| + - |\n",
    "| : |\n",
    "| = ! |\n",
    "| < > |\n",
    "| & |\n",
    "| ^ |\n",
    "| \\| |\n",
    "| (all letters) |\n",
    "| (all assignment operators) |"
   ]
  },
  {
   "cell_type": "markdown",
   "metadata": {},
   "source": [
    "Table 5.3 shows the precedence given to the first character of a method in decreasing order of precedence, with characters on the same line having the same precedence. The higher a character is in this table, the higher the precedence of methods that start with that character. Here's an example that illustrates the influence of precedence:"
   ]
  },
  {
   "cell_type": "code",
   "execution_count": 106,
   "metadata": {},
   "outputs": [
    {
     "data": {
      "text/plain": [
       "res51: Int = 32\n"
      ]
     },
     "execution_count": 106,
     "metadata": {},
     "output_type": "execute_result"
    }
   ],
   "source": [
    "2 << 2 + 2"
   ]
  },
  {
   "cell_type": "markdown",
   "metadata": {},
   "source": [
    "The `<<` method starts with the character `<`, which appears lower in Table 5.3 than the character `+`,\n",
    "which is the first and only character of the `+` method. Thus `<<` will have lower precedence than `+`, and\n",
    "the expression will be evaluated by first invoking the `+` method, then the `<<` method, as in `2 << (2 + 2). 2 + 2` is `4`, by our math, and `2 << 4` yields 32. If you swap the operators, you'll get a different result:"
   ]
  },
  {
   "cell_type": "code",
   "execution_count": 107,
   "metadata": {},
   "outputs": [
    {
     "data": {
      "text/plain": [
       "res52: Int = 16\n"
      ]
     },
     "execution_count": 107,
     "metadata": {},
     "output_type": "execute_result"
    }
   ],
   "source": [
    "2 + 2 << 2"
   ]
  },
  {
   "cell_type": "markdown",
   "metadata": {},
   "source": [
    "Since the first characters are the same as in the previous example, the methods will be invoked in the same order. First the `+` method will be invoked, then the `<<` method. So `2 + 2` will again yield `4`, and `4 << 2` is `16`.\n",
    "\n",
    "The one exception to the precedence rule, alluded to earlier, concerns assignment operators, which end in an equals character. If an operator ends in an equals character `(=)`, and the operator is not one of the comparison operators `<=`, `>=`, `==`, or `!=`, then the precedence of the operator is the same as that of simple assignment `(=)`. That is, it is lower than the precedence of any other operator. For instance:\n",
    "\n",
    "```\n",
    "x *= y + 1\n",
    "```\n",
    "\n",
    "means the same as:\n",
    "\n",
    "```\n",
    "x *= (y + 1)\n",
    "```\n",
    "\n",
    "because `*=` is classified as an assignment operator whose precedence is lower than `+`, even though the operator's first character is `*`, which would suggest a precedence higher than `+`.\n",
    "\n",
    "When multiple operators of the same precedence appear side by side in an expression, the associativity of the operators determines the way operators are grouped. The associativity of an operator in Scala is determined by its last character. As mentioned here of Chapter 3, any method that ends in a `:'` character is invoked on its right operand, passing in the left operand. Methods that end in any other character are the other way around: They are invoked on their left operand, passing in the right operand. So `a * b` yields `a.*(b)`, but `a ::: b` yields `b.:::(a)`.\n",
    "\n",
    "No matter what associativity an operator has, however, its operands are always evaluated left to right. So if a is an expression that is not just a simple reference to an immutable value, then `a ::: b` is more precisely treated as the following block:\n",
    "\n",
    "```\n",
    "{ val x = a; b.:::(x) }\n",
    "```\n",
    "\n",
    "In this block a is still evaluated before `b`, and then the result of this evaluation is passed as an operand to b's `:::` method.\n",
    "\n",
    "This associativity rule also plays a role when multiple operators of the same precedence appear side by side. If the methods end in `:'`, they are grouped right to left; otherwise, they are grouped left to right. For example, `a ::: b ::: c` is treated as `a ::: (b ::: c)`. But `a * b * c`, by contrast, is treated as `(a * b) * c`.\n",
    "\n",
    "Operator precedence is part of the Scala language. You needn't be afraid to use it. Nevertheless, it is good style to use parentheses to clarify what operators are operating upon what expressions. Perhaps the only precedence you can truly count on other programmers knowing without looking up is that multiplicative operators, `*`, `/`, and `%`, have a higher precedence than the additive ones `+` and `-`. Thus even if `a + b << c` yields the result you want without parentheses, the extra clarity you get by writing `(a + b) << c` may reduce the frequency with which your peers utter your name in operator notation, for example, by shouting in disgust, `\"bills !*&^%~ code!\"`.[8]"
   ]
  },
  {
   "cell_type": "markdown",
   "metadata": {},
   "source": [
    "## 5.10 RICH WRAPPERS"
   ]
  },
  {
   "cell_type": "markdown",
   "metadata": {},
   "source": [
    "You can invoke many more methods on Scala's basic types than were described in the previous sections. A few examples are shown in Table 5.4. These methods are available via implicit conversions, a technique that will be described in detail in Chapter 21. All you need to know for now is that for each basic type described in this chapter, there is also a \"rich wrapper\" that provides several additional methods. To see all the available methods on the basic types, therefore, you should look at the API documentation on the rich wrapper for each basic type. Those classes are listed in Table 5.5.\n",
    "\n",
    "#### Table 5.4 - Some rich operations\n",
    "\n",
    "| Code | Result |\n",
    "| :---: | :---: |\n",
    "| 0 max 5 | 5 |\n",
    "| 0 min 5 | 0 |\n",
    "| -2.7 abs | 2.7 |\n",
    "| -2.7 round | -3L |\n",
    "| 1.5 isInfinity | false |\n",
    "| (1.0 / 0) isInfinity | true |\n",
    "| 4 to 6 | Range(4, 5, 6) |\n",
    "| \"bob\" capitalize | \"Bob\" |\n",
    "| \"robert\" drop 2 | \"bert\" |"
   ]
  },
  {
   "cell_type": "markdown",
   "metadata": {},
   "source": [
    "#### Table 5.5 - Rich wrapper classes\n",
    "\n",
    "| Basic type | Rich wrapper\n",
    "| :---: | :---: |\n",
    "| Byte |scala.runtime.RichByte |\n",
    "| Short | scala.runtime.RichShort |\n",
    "| Int | scala.runtime.RichInt |\n",
    "| Long | scala.runtime.RichLong |\n",
    "| Char | scala.runtime.RichChar |\n",
    "| Float | scala.runtime.RichFloat |\n",
    "| Double | scala.runtime.RichDouble |\n",
    "| Boolean | scala.runtime.RichBoolean |\n",
    "| String | scala.collection.immutable.StringOps |"
   ]
  },
  {
   "cell_type": "markdown",
   "metadata": {},
   "source": [
    "## 5.11 CONCLUSION"
   ]
  },
  {
   "cell_type": "markdown",
   "metadata": {},
   "source": [
    "The main take-aways from this chapter are that operators in Scala are method calls, and that implicit conversions to rich variants exist for Scala's basic types that add even more useful methods. In the next chapter, we'll show you what it means to design objects in a functional style that gives new implementations of some of the operators that you have seen in this chapter.\n",
    " \n",
    "### Footnotes for Chapter 5:\n",
    "\n",
    "[1] Packages, which were briefly described in Step 1 in Chapter 2, will be covered in depth inChapter 13.  \n",
    "[2] figuratively speaking  \n",
    "[3] Overloaded methods have the same name but different argument types. More on method overloading in Section 6.11.  \n",
    "[4] All is not necessarily lost, however. There is an extremely slight chance your program with the `*p` might compile as `C++`.  \n",
    "[5] The bitwise-xor method performs an exclusive or on its operands. Identical bits yield a `0`. Different bits yield a `1`. Thus `0011 ^ 0101` yields `0110`.  \n",
    "[6] The leftmost bit in an integer type is the sign bit. If the leftmost bit is `1`, the number is negative. If `0`, the number is positive.  \n",
    "[7] The automatic check does not look at the right-hand side, but any reasonable equalsmethod should return false if its argument is null.  \n",
    "[8] By now you should be able to figure out that given this code, the Scala compiler would invoke `(bills.!*&^%~(code)).!()`.  "
   ]
  }
 ],
 "metadata": {
  "kernelspec": {
   "display_name": "Scala",
   "language": "scala",
   "name": "scala"
  },
  "language_info": {
   "codemirror_mode": "text/x-scala",
   "file_extension": ".scala",
   "mimetype": "text/x-scala",
   "name": "scala",
   "nbconvert_exporter": "script",
   "version": "2.13.2"
  }
 },
 "nbformat": 4,
 "nbformat_minor": 4
}
